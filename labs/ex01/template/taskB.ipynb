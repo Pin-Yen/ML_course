{
  "nbformat": 4,
  "nbformat_minor": 0,
  "metadata": {
    "kernelspec": {
      "display_name": "Python 3",
      "language": "python",
      "name": "python3"
    },
    "language_info": {
      "codemirror_mode": {
        "name": "ipython",
        "version": 3
      },
      "file_extension": ".py",
      "mimetype": "text/x-python",
      "name": "python",
      "nbconvert_exporter": "python",
      "pygments_lexer": "ipython3",
      "version": "3.6.1"
    },
    "colab": {
      "name": "taskB.ipynb",
      "provenance": []
    }
  },
  "cells": [
    {
      "cell_type": "code",
      "metadata": {
        "id": "Qn6QB-yCt2en"
      },
      "source": [
        "%matplotlib inline\n",
        "import numpy as np\n",
        "import matplotlib.pyplot as plt\n",
        "%load_ext autoreload\n",
        "%autoreload 2"
      ],
      "execution_count": 1,
      "outputs": []
    },
    {
      "cell_type": "markdown",
      "metadata": {
        "id": "uP2J0Y1at2ep"
      },
      "source": [
        "Data Generation\n",
        "==="
      ]
    },
    {
      "cell_type": "code",
      "metadata": {
        "id": "tsvWcS7bt2eq",
        "outputId": "51ba5135-1554-41df-a5c4-1fb009327650",
        "colab": {
          "base_uri": "https://localhost:8080/"
        }
      },
      "source": [
        "np.random.seed(10)\n",
        "p, q = (np.random.rand(i, 2) for i in (4, 5))\n",
        "p_big, q_big = (np.random.rand(i, 80) for i in (100, 120))\n",
        "\n",
        "print(p, \"\\n\\n\", q)"
      ],
      "execution_count": 2,
      "outputs": [
        {
          "output_type": "stream",
          "name": "stdout",
          "text": [
            "[[0.77132064 0.02075195]\n",
            " [0.63364823 0.74880388]\n",
            " [0.49850701 0.22479665]\n",
            " [0.19806286 0.76053071]] \n",
            "\n",
            " [[0.16911084 0.08833981]\n",
            " [0.68535982 0.95339335]\n",
            " [0.00394827 0.51219226]\n",
            " [0.81262096 0.61252607]\n",
            " [0.72175532 0.29187607]]\n"
          ]
        }
      ]
    },
    {
      "cell_type": "markdown",
      "metadata": {
        "id": "CCEg0WaIt2er"
      },
      "source": [
        "Solution\n",
        "==="
      ]
    },
    {
      "cell_type": "code",
      "metadata": {
        "collapsed": true,
        "id": "JHUmi-dUt2er",
        "outputId": "c47f17a2-9865-4e53-8580-fc89f5a11ef7",
        "colab": {
          "base_uri": "https://localhost:8080/"
        }
      },
      "source": [
        "def naive(p, q):\n",
        "    ''' fill your code in here...\n",
        "    '''\n",
        "    dist = np.empty((np.shape(p)[0], np.shape(q)[0]))\n",
        "    for i, pp in enumerate(p):\n",
        "      for k, qq in enumerate(q):\n",
        "        dist[i][k] = ((pp[0] - qq[0])**2 + (pp[1] - qq[1])**2 )**0.5\n",
        "\n",
        "    return dist\n",
        "\n",
        "naive(p, q)\n",
        "      "
      ],
      "execution_count": 21,
      "outputs": [
        {
          "output_type": "execute_result",
          "data": {
            "text/plain": [
              "array([[0.60599073, 0.93659449, 0.91124856, 0.59321356, 0.27561751],\n",
              "       [0.80746999, 0.21102354, 0.67268649, 0.22495084, 0.46534491],\n",
              "       [0.35654215, 0.75217493, 0.57200052, 0.49900068, 0.23310825],\n",
              "       [0.67281411, 0.52407472, 0.31520226, 0.63212897, 0.70277376]])"
            ]
          },
          "metadata": {},
          "execution_count": 21
        }
      ]
    },
    {
      "cell_type": "markdown",
      "metadata": {
        "id": "d9S141v7t2er"
      },
      "source": [
        "### Use matching indices\n",
        "\n",
        "Instead of iterating through indices, one can use them directly to parallelize the operations with Numpy."
      ]
    },
    {
      "cell_type": "code",
      "metadata": {
        "id": "87fYMXxvt2es",
        "outputId": "ca370180-44d0-4bf9-e554-ccfaa54883a4",
        "colab": {
          "base_uri": "https://localhost:8080/"
        }
      },
      "source": [
        "rows, cols = np.indices((p.shape[0], q.shape[0]))\n",
        "print(rows, end='\\n\\n')\n",
        "print(cols)"
      ],
      "execution_count": 9,
      "outputs": [
        {
          "output_type": "stream",
          "name": "stdout",
          "text": [
            "[[0 0 0 0 0]\n",
            " [1 1 1 1 1]\n",
            " [2 2 2 2 2]\n",
            " [3 3 3 3 3]]\n",
            "\n",
            "[[0 1 2 3 4]\n",
            " [0 1 2 3 4]\n",
            " [0 1 2 3 4]\n",
            " [0 1 2 3 4]]\n"
          ]
        }
      ]
    },
    {
      "cell_type": "code",
      "metadata": {
        "id": "ytGeJ7CAt2es",
        "outputId": "103329be-406e-4f5b-b8b7-ce716e084020",
        "colab": {
          "base_uri": "https://localhost:8080/"
        }
      },
      "source": [
        "print(p[rows.ravel()], end='\\n\\n')\n",
        "print(q[cols.ravel()])"
      ],
      "execution_count": 10,
      "outputs": [
        {
          "output_type": "stream",
          "name": "stdout",
          "text": [
            "[[0.77132064 0.02075195]\n",
            " [0.77132064 0.02075195]\n",
            " [0.77132064 0.02075195]\n",
            " [0.77132064 0.02075195]\n",
            " [0.77132064 0.02075195]\n",
            " [0.63364823 0.74880388]\n",
            " [0.63364823 0.74880388]\n",
            " [0.63364823 0.74880388]\n",
            " [0.63364823 0.74880388]\n",
            " [0.63364823 0.74880388]\n",
            " [0.49850701 0.22479665]\n",
            " [0.49850701 0.22479665]\n",
            " [0.49850701 0.22479665]\n",
            " [0.49850701 0.22479665]\n",
            " [0.49850701 0.22479665]\n",
            " [0.19806286 0.76053071]\n",
            " [0.19806286 0.76053071]\n",
            " [0.19806286 0.76053071]\n",
            " [0.19806286 0.76053071]\n",
            " [0.19806286 0.76053071]]\n",
            "\n",
            "[[0.16911084 0.08833981]\n",
            " [0.68535982 0.95339335]\n",
            " [0.00394827 0.51219226]\n",
            " [0.81262096 0.61252607]\n",
            " [0.72175532 0.29187607]\n",
            " [0.16911084 0.08833981]\n",
            " [0.68535982 0.95339335]\n",
            " [0.00394827 0.51219226]\n",
            " [0.81262096 0.61252607]\n",
            " [0.72175532 0.29187607]\n",
            " [0.16911084 0.08833981]\n",
            " [0.68535982 0.95339335]\n",
            " [0.00394827 0.51219226]\n",
            " [0.81262096 0.61252607]\n",
            " [0.72175532 0.29187607]\n",
            " [0.16911084 0.08833981]\n",
            " [0.68535982 0.95339335]\n",
            " [0.00394827 0.51219226]\n",
            " [0.81262096 0.61252607]\n",
            " [0.72175532 0.29187607]]\n"
          ]
        }
      ]
    },
    {
      "cell_type": "code",
      "metadata": {
        "collapsed": true,
        "id": "X1lunKc8t2et",
        "outputId": "361bbe12-bd0e-4ed9-c4dd-9014d9c87d30",
        "colab": {
          "base_uri": "https://localhost:8080/"
        }
      },
      "source": [
        "def with_indices(p, q):\n",
        "    ''' fill your code in here...\n",
        "    '''\n",
        "    return (np.sum((p[rows.ravel()] - q[cols.ravel()])**2, axis=1))**0.5\n",
        "\n",
        "with_indices(p, q)"
      ],
      "execution_count": 15,
      "outputs": [
        {
          "output_type": "execute_result",
          "data": {
            "text/plain": [
              "array([0.60599073, 0.93659449, 0.91124856, 0.59321356, 0.27561751,\n",
              "       0.80746999, 0.21102354, 0.67268649, 0.22495084, 0.46534491,\n",
              "       0.35654215, 0.75217493, 0.57200052, 0.49900068, 0.23310825,\n",
              "       0.67281411, 0.52407472, 0.31520226, 0.63212897, 0.70277376])"
            ]
          },
          "metadata": {},
          "execution_count": 15
        }
      ]
    },
    {
      "cell_type": "markdown",
      "metadata": {
        "id": "I8-ZlSZVt2et"
      },
      "source": [
        "### Use a library\n",
        "\n",
        "`scipy` is the equivalent of matlab toolboxes and have a lot to offer. Actually the pairwise computation is part of the library through the `spatial` module."
      ]
    },
    {
      "cell_type": "code",
      "metadata": {
        "id": "Z0jugq2it2eu",
        "outputId": "f1a22e59-f297-4659-8a8d-00b58ab23fec",
        "colab": {
          "base_uri": "https://localhost:8080/"
        }
      },
      "source": [
        "from scipy.spatial.distance import cdist\n",
        "\n",
        "def scipy_version(p, q):\n",
        "    return cdist(p, q)\n",
        "\n",
        "scipy_version(p, q)"
      ],
      "execution_count": 17,
      "outputs": [
        {
          "output_type": "execute_result",
          "data": {
            "text/plain": [
              "array([[0.60599073, 0.93659449, 0.91124856, 0.59321356, 0.27561751],\n",
              "       [0.80746999, 0.21102354, 0.67268649, 0.22495084, 0.46534491],\n",
              "       [0.35654215, 0.75217493, 0.57200052, 0.49900068, 0.23310825],\n",
              "       [0.67281411, 0.52407472, 0.31520226, 0.63212897, 0.70277376]])"
            ]
          },
          "metadata": {},
          "execution_count": 17
        }
      ]
    },
    {
      "cell_type": "markdown",
      "metadata": {
        "id": "_g6xkNQot2eu"
      },
      "source": [
        "### Numpy Magic"
      ]
    },
    {
      "cell_type": "code",
      "metadata": {
        "id": "2Zl4Bk2_t2eu",
        "outputId": "e93f7563-9678-4530-8176-1f0cbff045d6",
        "colab": {
          "base_uri": "https://localhost:8080/"
        }
      },
      "source": [
        "def tensor_broadcasting(p, q):\n",
        "    return np.sqrt(np.sum((p[:,np.newaxis,:]-q[np.newaxis,:,:])**2, axis=2))\n",
        "\n",
        "tensor_broadcasting(p, q)"
      ],
      "execution_count": 18,
      "outputs": [
        {
          "output_type": "execute_result",
          "data": {
            "text/plain": [
              "array([[0.60599073, 0.93659449, 0.91124856, 0.59321356, 0.27561751],\n",
              "       [0.80746999, 0.21102354, 0.67268649, 0.22495084, 0.46534491],\n",
              "       [0.35654215, 0.75217493, 0.57200052, 0.49900068, 0.23310825],\n",
              "       [0.67281411, 0.52407472, 0.31520226, 0.63212897, 0.70277376]])"
            ]
          },
          "metadata": {},
          "execution_count": 18
        }
      ]
    },
    {
      "cell_type": "markdown",
      "metadata": {
        "id": "Wu-0yg_9t2eu"
      },
      "source": [
        "# Compare methods"
      ]
    },
    {
      "cell_type": "code",
      "metadata": {
        "id": "tZea-lUvt2ev",
        "outputId": "03ba739c-7f2d-4f2d-c7a6-d061ec5b3718",
        "colab": {
          "base_uri": "https://localhost:8080/"
        }
      },
      "source": [
        "methods = [naive, with_indices, scipy_version, tensor_broadcasting]\n",
        "timers = []\n",
        "for f in methods:\n",
        "    r = %timeit -o f(p_big, q_big)\n",
        "    timers.append(r)"
      ],
      "execution_count": 24,
      "outputs": [
        {
          "output_type": "stream",
          "name": "stdout",
          "text": [
            "10 loops, best of 5: 29.5 ms per loop\n",
            "The slowest run took 31.48 times longer than the fastest. This could mean that an intermediate result is being cached.\n",
            "100000 loops, best of 5: 16.9 µs per loop\n",
            "1000 loops, best of 5: 647 µs per loop\n",
            "100 loops, best of 5: 3.02 ms per loop\n"
          ]
        }
      ]
    },
    {
      "cell_type": "code",
      "metadata": {
        "id": "Xbg3K0qMt2ev",
        "outputId": "d8ab6aae-84a0-4e03-d828-5e59c41999a3",
        "colab": {
          "base_uri": "https://localhost:8080/",
          "height": 438
        }
      },
      "source": [
        "plt.figure(figsize=(10,6))\n",
        "plt.bar(np.arange(len(methods)), [r.best*1000 for r in timers], log=False)  # Set log to True for logarithmic scale\n",
        "plt.xticks(np.arange(len(methods))+0.2, [f.__name__ for f in methods], rotation=30)\n",
        "plt.xlabel('Method')\n",
        "plt.ylabel('Time (ms)')\n",
        "plt.show()"
      ],
      "execution_count": 25,
      "outputs": [
        {
          "output_type": "display_data",
          "data": {
            "image/png": "[encoded data removed]",
            "text/plain": [
              "<Figure size 720x432 with 1 Axes>"
            ]
          },
          "metadata": {
            "needs_background": "light"
          }
        }
      ]
    },
    {
      "cell_type": "code",
      "metadata": {
        "collapsed": true,
        "id": "-kkTqrPEt2ev"
      },
      "source": [
        ""
      ],
      "execution_count": null,
      "outputs": []
    }
  ]
}