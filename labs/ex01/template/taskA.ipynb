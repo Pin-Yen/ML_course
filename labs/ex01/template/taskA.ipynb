{
  "nbformat": 4,
  "nbformat_minor": 0,
  "metadata": {
    "kernelspec": {
      "display_name": "Python 3",
      "language": "python",
      "name": "python3"
    },
    "language_info": {
      "codemirror_mode": {
        "name": "ipython",
        "version": 3
      },
      "file_extension": ".py",
      "mimetype": "text/x-python",
      "name": "python",
      "nbconvert_exporter": "python",
      "pygments_lexer": "ipython3",
      "version": "3.6.1"
    },
    "colab": {
      "name": "taskA.ipynb",
      "provenance": []
    }
  },
  "cells": [
    {
      "cell_type": "code",
      "metadata": {
        "collapsed": true,
        "id": "683v2ui4nUDV"
      },
      "source": [
        "%matplotlib inline\n",
        "import numpy as np\n",
        "import matplotlib.pyplot as plt\n",
        "%load_ext autoreload\n",
        "%autoreload 2"
      ],
      "execution_count": 3,
      "outputs": []
    },
    {
      "cell_type": "markdown",
      "metadata": {
        "id": "0DOvKAN4nUDX"
      },
      "source": [
        "Data Generation\n",
        "==="
      ]
    },
    {
      "cell_type": "code",
      "metadata": {
        "collapsed": true,
        "id": "FpdSUsnsnUDY"
      },
      "source": [
        "num_samples, num_features = 10, 5"
      ],
      "execution_count": 6,
      "outputs": []
    },
    {
      "cell_type": "code",
      "metadata": {
        "collapsed": true,
        "id": "qqg86GFwnUDZ"
      },
      "source": [
        "np.random.seed(10)\n",
        "data = np.random.rand(num_samples, num_features)"
      ],
      "execution_count": 7,
      "outputs": []
    },
    {
      "cell_type": "markdown",
      "metadata": {
        "id": "lpijuWv2nUDZ"
      },
      "source": [
        "Solution\n",
        "==="
      ]
    },
    {
      "cell_type": "code",
      "metadata": {
        "scrolled": false,
        "colab": {
          "base_uri": "https://localhost:8080/"
        },
        "id": "x5563WnJnUDZ",
        "outputId": "0936ebe9-faca-43e8-b857-71d2ae090b8e"
      },
      "source": [
        "print(data)"
      ],
      "execution_count": 11,
      "outputs": [
        {
          "output_type": "stream",
          "name": "stdout",
          "text": [
            "[[0.77132064 0.02075195 0.63364823 0.74880388 0.49850701]\n",
            " [0.22479665 0.19806286 0.76053071 0.16911084 0.08833981]\n",
            " [0.68535982 0.95339335 0.00394827 0.51219226 0.81262096]\n",
            " [0.61252607 0.72175532 0.29187607 0.91777412 0.71457578]\n",
            " [0.54254437 0.14217005 0.37334076 0.67413362 0.44183317]\n",
            " [0.43401399 0.61776698 0.51313824 0.65039718 0.60103895]\n",
            " [0.8052232  0.52164715 0.90864888 0.31923609 0.09045935]\n",
            " [0.30070006 0.11398436 0.82868133 0.04689632 0.62628715]\n",
            " [0.54758616 0.819287   0.19894754 0.8568503  0.35165264]\n",
            " [0.75464769 0.29596171 0.88393648 0.32551164 0.1650159 ]]\n"
          ]
        }
      ]
    },
    {
      "cell_type": "code",
      "metadata": {
        "collapsed": true,
        "colab": {
          "base_uri": "https://localhost:8080/"
        },
        "id": "Y7vfdKYInUDZ",
        "outputId": "d78dca0c-f698-4c09-dd61-a7a8f7ff8bfc"
      },
      "source": [
        "def standardize(x):\n",
        "    ''' fill your code in here...\n",
        "    '''\n",
        "    mean = np.mean(x, axis=0)\n",
        "    print(mean)\n",
        "    std = np.std(x, axis=0)\n",
        "    # m, n = x.shape\n",
        "    # for r in range(m):\n",
        "    #   for c in range(n):\n",
        "    #     x[r][c] = (x[r][c] - mean[c]) / std[c]\n",
        "    x = (x - mean[:np.newaxis,]) / std[:np.newaxis,]\n",
        "    print(x)\n",
        "    return x\n",
        "\n",
        "std_data = standardize(data)"
      ],
      "execution_count": 35,
      "outputs": [
        {
          "output_type": "stream",
          "name": "stdout",
          "text": [
            "[ 1.11022302e-17  2.22044605e-17  0.00000000e+00 -1.11022302e-17\n",
            "  2.22044605e-17]\n",
            "[[ 1.0775774  -1.34411605  0.31525355  0.80665878  0.24128662]\n",
            " [-1.81711634 -0.77630186  0.74088404 -1.25592235 -1.42276759]\n",
            " [ 0.62228127  1.64254169 -1.797091   -0.03521894  1.51565143]\n",
            " [ 0.23651339  0.90075228 -0.83122987  1.40786459  1.11788073]\n",
            " [-0.13414844 -0.95529104 -0.55795449  0.54097769  0.01136005]\n",
            " [-0.70898541  0.56774371 -0.08900028  0.45652209  0.65726018]\n",
            " [ 1.2571441   0.25993298  1.23775021 -0.72176808 -1.4141686 ]\n",
            " [-1.41508984 -1.04555188  0.96949701 -1.69076861  0.75969247]\n",
            " [-0.10744434  1.21308427 -1.14296098  1.19109415 -0.35450368]\n",
            " [ 0.98926822 -0.46279408  1.15485183 -0.69943932 -1.11169162]]\n"
          ]
        }
      ]
    },
    {
      "cell_type": "code",
      "metadata": {
        "colab": {
          "base_uri": "https://localhost:8080/"
        },
        "id": "eoqHbu9ynUDa",
        "outputId": "c177b15f-f3af-47ba-a1ac-59c9e8930f79"
      },
      "source": [
        "print(std_data, \"\\n\\n\", np.mean(std_data, axis=0), \"\\n\\n\", np.std(std_data, axis=0))"
      ],
      "execution_count": 36,
      "outputs": [
        {
          "output_type": "stream",
          "name": "stdout",
          "text": [
            "[[ 1.0775774  -1.34411605  0.31525355  0.80665878  0.24128662]\n",
            " [-1.81711634 -0.77630186  0.74088404 -1.25592235 -1.42276759]\n",
            " [ 0.62228127  1.64254169 -1.797091   -0.03521894  1.51565143]\n",
            " [ 0.23651339  0.90075228 -0.83122987  1.40786459  1.11788073]\n",
            " [-0.13414844 -0.95529104 -0.55795449  0.54097769  0.01136005]\n",
            " [-0.70898541  0.56774371 -0.08900028  0.45652209  0.65726018]\n",
            " [ 1.2571441   0.25993298  1.23775021 -0.72176808 -1.4141686 ]\n",
            " [-1.41508984 -1.04555188  0.96949701 -1.69076861  0.75969247]\n",
            " [-0.10744434  1.21308427 -1.14296098  1.19109415 -0.35450368]\n",
            " [ 0.98926822 -0.46279408  1.15485183 -0.69943932 -1.11169162]] \n",
            "\n",
            " [1.11022302e-17 2.22044605e-17 0.00000000e+00 1.11022302e-17\n",
            " 2.22044605e-17] \n",
            "\n",
            " [1. 1. 1. 1. 1.]\n"
          ]
        }
      ]
    }
  ]
}