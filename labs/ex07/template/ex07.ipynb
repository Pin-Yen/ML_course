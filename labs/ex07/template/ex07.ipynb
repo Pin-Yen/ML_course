{
  "nbformat": 4,
  "nbformat_minor": 0,
  "metadata": {
    "anaconda-cloud": {},
    "kernelspec": {
      "display_name": "Python 3",
      "language": "python",
      "name": "python3"
    },
    "language_info": {
      "codemirror_mode": {
        "name": "ipython",
        "version": 3
      },
      "file_extension": ".py",
      "mimetype": "text/x-python",
      "name": "python",
      "nbconvert_exporter": "python",
      "pygments_lexer": "ipython3",
      "version": "3.7.4"
    },
    "colab": {
      "name": "ex07.ipynb",
      "provenance": []
    }
  },
  "cells": [
    {
      "cell_type": "code",
      "metadata": {
        "id": "LBxZOJ1AG8_F"
      },
      "source": [
        "# Useful starting lines\n",
        "%matplotlib inline\n",
        "\n",
        "import random\n",
        "from datetime import datetime\n",
        "\n",
        "import numpy as np\n",
        "import matplotlib.pyplot as plt\n",
        "from test_utils import test\n",
        "%load_ext autoreload\n",
        "%autoreload 2"
      ],
      "execution_count": 1,
      "outputs": []
    },
    {
      "cell_type": "markdown",
      "metadata": {
        "id": "RRXYCE2KG8_H"
      },
      "source": [
        "# Support Vector Machines\n",
        "## Classification Using SVM\n",
        "Load dataset. We will use a toy dataset from sklearn."
      ]
    },
    {
      "cell_type": "code",
      "metadata": {
        "id": "xZ3VPlWNG8_I",
        "outputId": "15cb55e0-19c8-49b1-8e76-3a96a672a2bb",
        "colab": {
          "base_uri": "https://localhost:8080/"
        }
      },
      "source": [
        "from sklearn import datasets\n",
        "\n",
        "#Load dataset\n",
        "sklearn_dataset = datasets.load_breast_cancer()\n",
        "Xx  = sklearn_dataset.data\n",
        "y = sklearn_dataset.target * 2 - 1    # labels must be in {-1, 1} for the hinge loss\n",
        "X = np.ones((Xx.shape[0], Xx.shape[1] + 1 ))   \n",
        "X[:, :-1] = Xx\n",
        "print(\"(N, D) =\", X.shape)"
      ],
      "execution_count": 2,
      "outputs": [
        {
          "output_type": "stream",
          "name": "stdout",
          "text": [
            "(N, D) = (569, 31)\n"
          ]
        }
      ]
    },
    {
      "cell_type": "markdown",
      "metadata": {
        "id": "kbce8e63G8_J"
      },
      "source": [
        "## Prepare cost and prediction functions"
      ]
    },
    {
      "cell_type": "code",
      "metadata": {
        "id": "TG4LN5LXG8_J",
        "outputId": "e053bbc4-75dc-49ae-c53a-07aaf6b9ec7a",
        "colab": {
          "base_uri": "https://localhost:8080/"
        }
      },
      "source": [
        "\n",
        "def calculate_primal_objective(y, X, w, lambda_):\n",
        "    \"\"\"compute the full cost (the primal objective, equation (1) in the exercise pdf),\n",
        "        that is loss plus regularizer.\n",
        "        \n",
        "    Args:\n",
        "        X: the full dataset matrix, shape = (num_examples, num_features)\n",
        "        y: the corresponding +1 or -1 labels, shape = (num_examples)\n",
        "        w: shape = (num_features)\n",
        "    \n",
        "    Returns:\n",
        "        scalar, non-negative\n",
        "        \n",
        "    >>> y_test = np.array([1, -1])\n",
        "    >>> x_test = np.array([[1, 2, 3], [4, 5, 6]])\n",
        "    >>> w_test = np.array([0, 1, 5])\n",
        "    >>> calculate_primal_objective(y_test, x_test, w_test, 1)\n",
        "    49.0\n",
        "    \"\"\"\n",
        "    # ***************************************************\n",
        "    # INSERT YOUR CODE HERE\n",
        "    # TODO\n",
        "    # ***************************************************\n",
        "    return np.sum(np.maximum(0, 1 - np.diag(y) @ X @ w)) + 0.5*lambda_*w.T @ w\n",
        "\n",
        "y_test = np.array([1, -1])\n",
        "x_test = np.array([[1, 2, 3], [4, 5, 6]])\n",
        "w_test = np.array([0, 1, 5])\n",
        "result = calculate_primal_objective(y_test, x_test, w_test, 1)\n",
        "print(result)\n"
      ],
      "execution_count": 8,
      "outputs": [
        {
          "output_type": "stream",
          "name": "stdout",
          "text": [
            "49.0\n"
          ]
        }
      ]
    },
    {
      "cell_type": "code",
      "metadata": {
        "id": "Nsr0e_wDG8_J",
        "outputId": "5998c465-14ef-4592-8966-f7cd5f3bbeaf",
        "colab": {
          "base_uri": "https://localhost:8080/"
        }
      },
      "source": [
        "test(calculate_primal_objective)"
      ],
      "execution_count": 9,
      "outputs": [
        {
          "output_type": "stream",
          "name": "stderr",
          "text": [
            "\n",
            "PYDEV DEBUGGER WARNING:\n",
            "sys.settrace() should not be used when the debugger is being used.\n",
            "This may cause the debugger to stop working correctly.\n",
            "If this is needed, please check: \n",
            "http://pydev.blogspot.com/2007/06/why-cant-pydev-debugger-work-with.html\n",
            "to see how to restore the debug tracing back correctly.\n",
            "Call Location:\n",
            "  File \"/usr/lib/python3.7/doctest.py\", line 1487, in run\n",
            "    sys.settrace(save_trace)\n",
            "\n"
          ]
        },
        {
          "output_type": "stream",
          "name": "stdout",
          "text": [
            "✅ Your `calculate_primal_objective` passed 4 tests.\n"
          ]
        }
      ]
    },
    {
      "cell_type": "code",
      "metadata": {
        "id": "ax3LrHN3G8_K"
      },
      "source": [
        "def calculate_accuracy(y, X, w):\n",
        "    \"\"\"compute the accuracy on the given dataset (X, y) using the model w.\n",
        "    \n",
        "    Args:\n",
        "        X: the full dataset matrix, shape = (num_examples, num_features)\n",
        "        y: the corresponding +1 or -1 labels, shape = (num_examples)\n",
        "        w: shape = (num_features)\n",
        "    \n",
        "    Returns:\n",
        "        scalar, between 0 and 1\n",
        "        \n",
        "    >>> y_test = np.array([1, -1])\n",
        "    >>> x_test = np.array([[1, 2, 3], [4, 5, 6]])\n",
        "    >>> w_test = np.array([0, 1, 5])\n",
        "    >>> calculate_accuracy(y_test, x_test, w_test)\n",
        "    0.5\n",
        "    \"\"\"\n",
        "    # ***************************************************\n",
        "    # INSERT YOUR CODE HERE\n",
        "    # TODO\n",
        "    # ***************************************************\n",
        "    prediction = np.ones(y.shape)\n",
        "    prediction[X@w < 0] = -1\n",
        "    return np.average(y==prediction)\n"
      ],
      "execution_count": 12,
      "outputs": []
    },
    {
      "cell_type": "code",
      "metadata": {
        "scrolled": true,
        "id": "-C3DeEKIG8_K",
        "outputId": "74d83e90-c49d-4c54-b38b-e0811cd6f46e",
        "colab": {
          "base_uri": "https://localhost:8080/"
        }
      },
      "source": [
        "test(calculate_accuracy)"
      ],
      "execution_count": 13,
      "outputs": [
        {
          "output_type": "stream",
          "name": "stdout",
          "text": [
            "✅ Your `calculate_accuracy` passed 4 tests.\n"
          ]
        }
      ]
    },
    {
      "cell_type": "markdown",
      "metadata": {
        "id": "DBOEhFGRG8_L"
      },
      "source": [
        "## Stochastic Gradient Descent for SVM"
      ]
    },
    {
      "cell_type": "markdown",
      "metadata": {
        "id": "DZHhBYg0G8_L"
      },
      "source": [
        "Compute the (stochastic) subgradient for the n-th summand of the SVM optimization objective"
      ]
    },
    {
      "cell_type": "code",
      "metadata": {
        "id": "h1yFAkU7G8_M"
      },
      "source": [
        "def calculate_stochastic_gradient(y, X, w, lambda_, n, num_examples):\n",
        "    \"\"\"compute the stochastic gradient of loss plus regularizer.\n",
        "    \n",
        "    Args:\n",
        "        X: the dataset matrix, shape = (num_examples, num_features)\n",
        "        y: the corresponding +1 or -1 labels, shape = (num_examples)\n",
        "        w: shape = (num_features)\n",
        "        lambda_: positive scalar number\n",
        "        n: the index of the (one) datapoint we have sampled\n",
        "        num_examples: N\n",
        "    \n",
        "    Returns:\n",
        "        numpy array, shape = (num_features)\n",
        "    \n",
        "    >>> y_test = np.array([1, -1])\n",
        "    >>> x_test = np.array([[1, 2, 3], [4, 5, 6]])\n",
        "    >>> w_test = np.array([0, 1, 5])\n",
        "    >>> calculate_stochastic_gradient(y_test, x_test, w_test, 1, 1, 2)\n",
        "    array([ 8, 11, 17])\n",
        "    \"\"\"\n",
        "    # Be careful about the constant N (size) term!\n",
        "    # The complete objective for SVM is a sum, not an average as in earlier SGD examples!\n",
        "\n",
        "    x_n, y_n = X[n], y[n]\n",
        "    # ***************************************************\n",
        "    # INSERT YOUR CODE HERE\n",
        "    # TODO\n",
        "    # ***************************************************\n",
        "    if y_n * x_n.T @ w >= 1:\n",
        "      return lambda_ * w\n",
        "    else:\n",
        "      return num_examples*(-y_n*x_n) + lambda_*w"
      ],
      "execution_count": 27,
      "outputs": []
    },
    {
      "cell_type": "code",
      "metadata": {
        "id": "EWKeDhrWG8_M",
        "outputId": "15318b54-2c2d-48c7-e272-13562d0ceda4",
        "colab": {
          "base_uri": "https://localhost:8080/"
        }
      },
      "source": [
        "test(calculate_stochastic_gradient)"
      ],
      "execution_count": 28,
      "outputs": [
        {
          "output_type": "stream",
          "name": "stdout",
          "text": [
            "✅ Your `calculate_stochastic_gradient` passed 4 tests.\n"
          ]
        }
      ]
    },
    {
      "cell_type": "markdown",
      "metadata": {
        "id": "_DDB2ojwG8_M"
      },
      "source": [
        "Implement stochastic gradient descent: Pick a data point uniformly at random and update w based on the gradient for the n-th summand of the objective"
      ]
    },
    {
      "cell_type": "code",
      "metadata": {
        "id": "LlxI18gDG8_N",
        "outputId": "aee46276-f444-49bc-f2af-7c9080f9beac",
        "colab": {
          "base_uri": "https://localhost:8080/"
        }
      },
      "source": [
        "def sgd_for_svm_demo(y, X):\n",
        "    \n",
        "    max_iter = 2 * int(1e5)\n",
        "    gamma = 1e-4\n",
        "    lambda_ = int(1e4)   # big because scales with N due to the formulation of the problem (not an averaged loss)\n",
        "\n",
        "    num_examples, num_features = X.shape\n",
        "    w = np.zeros(num_features)\n",
        "    \n",
        "    for it in range(max_iter):\n",
        "        # n = sample one data point uniformly at random data from x\n",
        "        n = random.randint(0,num_examples-1)\n",
        "        \n",
        "        grad = calculate_stochastic_gradient(y, X, w, lambda_, n, num_examples)\n",
        "        w -= gamma / (it+1) * grad   \n",
        "        \n",
        "        if it % 20000 == 0:\n",
        "            cost = calculate_primal_objective(y, X, w, lambda_)\n",
        "            print(\"iteration={i}, cost={c}\".format(i=it, c=cost))\n",
        "            \n",
        "    print(\"training accuracy = {l}\".format(l=calculate_accuracy(y, X, w)))\n",
        "\n",
        "\n",
        "sgd_for_svm_demo(y, X)"
      ],
      "execution_count": 30,
      "outputs": [
        {
          "output_type": "stream",
          "name": "stdout",
          "text": [
            "iteration=0, cost=26233447.546311677\n",
            "iteration=20000, cost=199.97122618601065\n",
            "iteration=40000, cost=159.27071615538964\n",
            "iteration=60000, cost=138.777094386516\n",
            "iteration=80000, cost=189.11266071369303\n",
            "iteration=100000, cost=143.2970991026304\n",
            "iteration=120000, cost=146.77055447995656\n",
            "iteration=140000, cost=126.49523039282906\n",
            "iteration=160000, cost=125.27643008398343\n",
            "iteration=180000, cost=131.83572291162506\n",
            "training accuracy = 0.9261862917398945\n"
          ]
        }
      ]
    },
    {
      "cell_type": "markdown",
      "metadata": {
        "id": "gjt85HBjG8_N"
      },
      "source": [
        "## Coordinate Descent (Ascent) for SVM"
      ]
    },
    {
      "cell_type": "markdown",
      "metadata": {
        "id": "WSOVE0qfG8_N"
      },
      "source": [
        "Compute the closed-form update for the n-th variable alpha, in the dual optimization problem, given alpha and the current corresponding w"
      ]
    },
    {
      "cell_type": "code",
      "metadata": {
        "id": "DLgJwSWnG8_N"
      },
      "source": [
        "def calculate_coordinate_update(y, X, lambda_, alpha, w, n):\n",
        "    \"\"\"compute a coordinate update (closed form) for coordinate n.\n",
        "    \n",
        "    Args:\n",
        "        y: the corresponding +1 or -1 labels, shape = (num_examples)\n",
        "        X: the dataset matrix, shape = (num_examples, num_features)\n",
        "        lambda_: positive scalar number\n",
        "        alpha: vector of dual coordinates, shape = (num_examples)\n",
        "        w: vector of primal parameters, shape = (num_features)\n",
        "        n: the coordinate to be updated\n",
        "        \n",
        "    Returns:\n",
        "        w: updated vector of primal parameters, shape = (num_features)\n",
        "        alpha: updated vector of dual parameters, shape = (num_examples)\n",
        "        \n",
        "    >>> y_test = np.array([1, -1])\n",
        "    >>> x_test = np.array([[1., 2., 3.], [4., 5., 6.]])\n",
        "    >>> w_test = np.array([0., 1., 5.])\n",
        "    >>> alpha_test = np.array([5., 3.])\n",
        "    >>> calculate_coordinate_update(y_test, x_test, 1, alpha_test, w_test, 0)\n",
        "    (array([-4., -7., -7.]), array([1., 3.]))\n",
        "    \"\"\"        \n",
        "    # calculate the update of coordinate at index=n.\n",
        "    x_n, y_n = X[n], y[n]\n",
        "    old_alpha_n = np.copy(alpha[n])\n",
        "    \n",
        "    # ***************************************************\n",
        "    # INSERT YOUR CODE HERE\n",
        "    # TODO\n",
        "    # ***************************************************\n",
        "    raise NotImplementedError\n",
        "\n",
        "    return w, alpha"
      ],
      "execution_count": null,
      "outputs": []
    },
    {
      "cell_type": "code",
      "metadata": {
        "scrolled": true,
        "id": "6aG-xyTKG8_N"
      },
      "source": [
        "test(calculate_coordinate_update)"
      ],
      "execution_count": null,
      "outputs": []
    },
    {
      "cell_type": "code",
      "metadata": {
        "id": "4JByS6XHG8_O"
      },
      "source": [
        "def calculate_dual_objective(y, X, w, alpha, lambda_):\n",
        "    \"\"\"calculate the objective for the dual problem.\n",
        "    \n",
        "    Args:\n",
        "        y: the corresponding +1 or -1 labels, shape = (num_examples)\n",
        "        X: the dataset matrix, shape = (num_examples, num_features)\n",
        "        w: vector of primal parameters, shape = (num_features)\n",
        "        alpha: vector of dual coordinates, shape = (num_examples)\n",
        "        lambda_: non negative scalar number\n",
        "\n",
        "    Output:\n",
        "        scalar\n",
        "\n",
        "    >>> y_test = np.array([1, -1])\n",
        "    >>> x_test = np.array([[1., 2., 3.], [4., 5., 6.]])\n",
        "    >>> w_test = np.array([0., 1., 5.])\n",
        "    >>> alpha_test = np.array([5., 3.])\n",
        "    >>> calculate_dual_objective(y_test, x_test, w_test, alpha_test, 1)\n",
        "    -5.0\n",
        "    \"\"\"\n",
        "    # ***************************************************\n",
        "    # INSERT YOUR CODE HERE\n",
        "    # TODO\n",
        "    # ***************************************************\n",
        "    raise NotImplementedError\n"
      ],
      "execution_count": null,
      "outputs": []
    },
    {
      "cell_type": "code",
      "metadata": {
        "id": "nVYoGn9gG8_O"
      },
      "source": [
        "test(calculate_dual_objective)"
      ],
      "execution_count": null,
      "outputs": []
    },
    {
      "cell_type": "code",
      "metadata": {
        "scrolled": true,
        "id": "ONxhE04wG8_O"
      },
      "source": [
        "# Notice that the gap is going to 0\n",
        "def coordinate_descent_for_svm_demo(y, X):\n",
        "    max_iter = 2*int(1e5)\n",
        "    lambda_ = int(1e4)\n",
        "\n",
        "    num_examples, num_features = X.shape\n",
        "    w = np.zeros(num_features)\n",
        "    alpha = np.zeros(num_examples)\n",
        "    \n",
        "    for it in range(max_iter):\n",
        "        # n = sample one data point uniformly at random data from x\n",
        "        n = random.randint(0,num_examples-1)\n",
        "        \n",
        "        w, alpha = calculate_coordinate_update(y, X, lambda_, alpha, w, n)\n",
        "            \n",
        "        if it % 20000 == 0:\n",
        "            # primal objective\n",
        "            primal_value = calculate_primal_objective(y, X, w, lambda_)\n",
        "            # dual objective\n",
        "            dual_value = calculate_dual_objective(y, X, w, alpha, lambda_)\n",
        "            # primal dual gap\n",
        "            duality_gap = primal_value - dual_value\n",
        "            print('iteration=%i, primal:%.5f, dual:%.5f, gap:%.5f'%(\n",
        "                    it, primal_value, dual_value, duality_gap))\n",
        "    print(\"training accuracy = {l}\".format(l=calculate_accuracy(y, X, w)))\n",
        "\n",
        "coordinate_descent_for_svm_demo(y, X)"
      ],
      "execution_count": null,
      "outputs": []
    }
  ]
}