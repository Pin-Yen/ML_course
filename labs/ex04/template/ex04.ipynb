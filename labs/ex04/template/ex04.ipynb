{
  "nbformat": 4,
  "nbformat_minor": 0,
  "metadata": {
    "anaconda-cloud": {},
    "kernelspec": {
      "display_name": "Python 3",
      "language": "python",
      "name": "python3"
    },
    "language_info": {
      "codemirror_mode": {
        "name": "ipython",
        "version": 3
      },
      "file_extension": ".py",
      "mimetype": "text/x-python",
      "name": "python",
      "nbconvert_exporter": "python",
      "pygments_lexer": "ipython3",
      "version": "3.6.1"
    },
    "colab": {
      "name": "ex04.ipynb",
      "provenance": []
    }
  },
  "cells": [
    {
      "cell_type": "code",
      "metadata": {
        "collapsed": true,
        "id": "xD0iDX2o48w1",
        "outputId": "5b606405-08c5-4235-a24f-6a59d089155a",
        "colab": {
          "base_uri": "https://localhost:8080/"
        }
      },
      "source": [
        "# Useful starting lines\n",
        "%matplotlib inline\n",
        "import numpy as np\n",
        "import matplotlib.pyplot as plt\n",
        "%load_ext autoreload\n",
        "%autoreload 2"
      ],
      "execution_count": 39,
      "outputs": [
        {
          "output_type": "stream",
          "name": "stdout",
          "text": [
            "The autoreload extension is already loaded. To reload it, use:\n",
            "  %reload_ext autoreload\n"
          ]
        }
      ]
    },
    {
      "cell_type": "markdown",
      "metadata": {
        "id": "EuJci_5n48w2"
      },
      "source": [
        "# Cross-Validation and Bias-Variance decomposition\n",
        "## Cross-Validation\n",
        "Implementing 4-fold cross-validation below:"
      ]
    },
    {
      "cell_type": "code",
      "metadata": {
        "collapsed": true,
        "id": "vzag3pQX48w3",
        "outputId": "2faeffe4-aeb7-40ee-e2f1-0f64c709ea3b",
        "colab": {
          "base_uri": "https://localhost:8080/"
        }
      },
      "source": [
        "from helpers import load_data\n",
        "\n",
        "# load dataset\n",
        "x, y = load_data()\n",
        "print(x.shape, y.shape)"
      ],
      "execution_count": 40,
      "outputs": [
        {
          "output_type": "stream",
          "name": "stdout",
          "text": [
            "(50,) (50,)\n"
          ]
        }
      ]
    },
    {
      "cell_type": "code",
      "metadata": {
        "id": "bDI427i748w4"
      },
      "source": [
        "def build_k_indices(y, k_fold, seed):\n",
        "    \"\"\"build k indices for k-fold.\"\"\"\n",
        "    num_row = y.shape[0]\n",
        "    interval = int(num_row / k_fold)\n",
        "    np.random.seed(seed)\n",
        "    indices = np.random.permutation(num_row)\n",
        "    k_indices = [indices[k * interval: (k + 1) * interval]\n",
        "                 for k in range(k_fold)]\n",
        "    return np.array(k_indices)\n",
        "\n"
      ],
      "execution_count": 41,
      "outputs": []
    },
    {
      "cell_type": "code",
      "metadata": {
        "collapsed": true,
        "id": "TZ5drC-_48w4"
      },
      "source": [
        "from costs import compute_mse\n",
        "from ridge_regression import ridge_regression\n",
        "from build_polynomial import build_poly\n",
        "\n",
        "def cross_validation(y, x, k_indices, k, lambda_, degree):\n",
        "    \"\"\"return the loss of ridge regression.\"\"\"\n",
        "    # ***************************************************\n",
        "    # INSERT YOUR CODE HERE\n",
        "    # form data with polynomial degree: TODO\n",
        "    # ***************************************************\n",
        "    x_poly = build_poly(x, degree)\n",
        "    # ***************************************************\n",
        "    # INSERT YOUR CODE HERE\n",
        "    # get k'th subgroup in test, others in train: TODO\n",
        "    # ***************************************************\n",
        "    # test\n",
        "    te_indices = k_indices[k]\n",
        "    tr_indices = k_indices[[i for i in range(len(k_indices)) if i != k]]\n",
        "    tr_indices = tr_indices.reshape(-1)\n",
        "    x_train = x_poly[tr_indices]\n",
        "    x_test = x_poly[te_indices]\n",
        "\n",
        "    \n",
        "    # x_train = np.delete(x_poly, k_indices[k], axis=0)\n",
        "    # x_test = x_poly[k_indices[k]]\n",
        "    print(x_train.shape, x_test.shape)\n",
        "\n",
        "\n",
        "    # y_train = np.delete(y, k_indices[k])\n",
        "    # y_test = y[k_indices[k]]\n",
        "\n",
        "    y_train = y[tr_indices]\n",
        "    y_test = y[te_indices]\n",
        "\n",
        "    # ***************************************************\n",
        "    # INSERT YOUR CODE HERE\n",
        "    # ridge regression: TODO\n",
        "    # ***************************************************\n",
        "    weights = ridge_regression(y_train, x_train, lambda_)\n",
        "\n",
        "    # ***************************************************\n",
        "    # INSERT YOUR CODE HERE\n",
        "    # calculate the loss for train and test data: TODO\n",
        "    # ***************************************************\n",
        "    loss_tr = compute_mse(y_train, x_train, weights)\n",
        "    loss_te = compute_mse(y_test, x_test, weights)\n",
        "    return loss_tr, loss_te"
      ],
      "execution_count": 82,
      "outputs": []
    },
    {
      "cell_type": "code",
      "metadata": {
        "id": "7IEaI3zU48w4",
        "outputId": "445ed1c3-1e1b-4452-ec81-62c117100477",
        "colab": {
          "base_uri": "https://localhost:8080/",
          "height": 1000
        }
      },
      "source": [
        "from plots import cross_validation_visualization\n",
        "\n",
        "def cross_validation_demo():\n",
        "    seed = 1\n",
        "    degree = 7\n",
        "    k_fold = 4\n",
        "    lambdas = np.logspace(-4, 0, 30)\n",
        "    # split data in k fold\n",
        "    k_indices = build_k_indices(y, k_fold, seed)\n",
        "    # define lists to store the loss of training data and test data\n",
        "    rmse_tr = []\n",
        "    rmse_te = []\n",
        "    # ***************************************************\n",
        "    # INSERT YOUR CODE HERE\n",
        "    # cross validation: TODO\n",
        "    # ***************************************************\n",
        "    for lambda_ in lambdas:\n",
        "      rmse_tr_fold = []\n",
        "      rmse_te_fold = []\n",
        "      for k in range(k_fold):\n",
        "        loss_tr, loss_te = cross_validation(y, x, k_indices, k, lambda_, degree)\n",
        "        rmse_tr_fold.append(np.sqrt(loss_tr*2))\n",
        "        rmse_te_fold.append(np.sqrt(loss_te*2))\n",
        "      \n",
        "      rmse_tr.append(np.mean(rmse_tr_fold))\n",
        "      rmse_te.append(np.mean(rmse_te_fold))\n",
        "    cross_validation_visualization(lambdas, rmse_tr, rmse_te)\n",
        "\n",
        "cross_validation_demo()"
      ],
      "execution_count": 83,
      "outputs": [
        {
          "output_type": "stream",
          "name": "stdout",
          "text": [
            "(36, 8) (12, 8)\n",
            "(36, 8) (12, 8)\n",
            "(36, 8) (12, 8)\n",
            "(36, 8) (12, 8)\n",
            "(36, 8) (12, 8)\n",
            "(36, 8) (12, 8)\n",
            "(36, 8) (12, 8)\n",
            "(36, 8) (12, 8)\n",
            "(36, 8) (12, 8)\n",
            "(36, 8) (12, 8)\n",
            "(36, 8) (12, 8)\n",
            "(36, 8) (12, 8)\n",
            "(36, 8) (12, 8)\n",
            "(36, 8) (12, 8)\n",
            "(36, 8) (12, 8)\n",
            "(36, 8) (12, 8)\n",
            "(36, 8) (12, 8)\n",
            "(36, 8) (12, 8)\n",
            "(36, 8) (12, 8)\n",
            "(36, 8) (12, 8)\n",
            "(36, 8) (12, 8)\n",
            "(36, 8) (12, 8)\n",
            "(36, 8) (12, 8)\n",
            "(36, 8) (12, 8)\n",
            "(36, 8) (12, 8)\n",
            "(36, 8) (12, 8)\n",
            "(36, 8) (12, 8)\n",
            "(36, 8) (12, 8)\n",
            "(36, 8) (12, 8)\n",
            "(36, 8) (12, 8)\n",
            "(36, 8) (12, 8)\n",
            "(36, 8) (12, 8)\n",
            "(36, 8) (12, 8)\n",
            "(36, 8) (12, 8)\n",
            "(36, 8) (12, 8)\n",
            "(36, 8) (12, 8)\n",
            "(36, 8) (12, 8)\n",
            "(36, 8) (12, 8)\n",
            "(36, 8) (12, 8)\n",
            "(36, 8) (12, 8)\n",
            "(36, 8) (12, 8)\n",
            "(36, 8) (12, 8)\n",
            "(36, 8) (12, 8)\n",
            "(36, 8) (12, 8)\n",
            "(36, 8) (12, 8)\n",
            "(36, 8) (12, 8)\n",
            "(36, 8) (12, 8)\n",
            "(36, 8) (12, 8)\n",
            "(36, 8) (12, 8)\n",
            "(36, 8) (12, 8)\n",
            "(36, 8) (12, 8)\n",
            "(36, 8) (12, 8)\n",
            "(36, 8) (12, 8)\n",
            "(36, 8) (12, 8)\n",
            "(36, 8) (12, 8)\n",
            "(36, 8) (12, 8)\n",
            "(36, 8) (12, 8)\n",
            "(36, 8) (12, 8)\n",
            "(36, 8) (12, 8)\n",
            "(36, 8) (12, 8)\n",
            "(36, 8) (12, 8)\n",
            "(36, 8) (12, 8)\n",
            "(36, 8) (12, 8)\n",
            "(36, 8) (12, 8)\n",
            "(36, 8) (12, 8)\n",
            "(36, 8) (12, 8)\n",
            "(36, 8) (12, 8)\n",
            "(36, 8) (12, 8)\n",
            "(36, 8) (12, 8)\n",
            "(36, 8) (12, 8)\n",
            "(36, 8) (12, 8)\n",
            "(36, 8) (12, 8)\n",
            "(36, 8) (12, 8)\n",
            "(36, 8) (12, 8)\n",
            "(36, 8) (12, 8)\n",
            "(36, 8) (12, 8)\n",
            "(36, 8) (12, 8)\n",
            "(36, 8) (12, 8)\n",
            "(36, 8) (12, 8)\n",
            "(36, 8) (12, 8)\n",
            "(36, 8) (12, 8)\n",
            "(36, 8) (12, 8)\n",
            "(36, 8) (12, 8)\n",
            "(36, 8) (12, 8)\n",
            "(36, 8) (12, 8)\n",
            "(36, 8) (12, 8)\n",
            "(36, 8) (12, 8)\n",
            "(36, 8) (12, 8)\n",
            "(36, 8) (12, 8)\n",
            "(36, 8) (12, 8)\n",
            "(36, 8) (12, 8)\n",
            "(36, 8) (12, 8)\n",
            "(36, 8) (12, 8)\n",
            "(36, 8) (12, 8)\n",
            "(36, 8) (12, 8)\n",
            "(36, 8) (12, 8)\n",
            "(36, 8) (12, 8)\n",
            "(36, 8) (12, 8)\n",
            "(36, 8) (12, 8)\n",
            "(36, 8) (12, 8)\n",
            "(36, 8) (12, 8)\n",
            "(36, 8) (12, 8)\n",
            "(36, 8) (12, 8)\n",
            "(36, 8) (12, 8)\n",
            "(36, 8) (12, 8)\n",
            "(36, 8) (12, 8)\n",
            "(36, 8) (12, 8)\n",
            "(36, 8) (12, 8)\n",
            "(36, 8) (12, 8)\n",
            "(36, 8) (12, 8)\n",
            "(36, 8) (12, 8)\n",
            "(36, 8) (12, 8)\n",
            "(36, 8) (12, 8)\n",
            "(36, 8) (12, 8)\n",
            "(36, 8) (12, 8)\n",
            "(36, 8) (12, 8)\n",
            "(36, 8) (12, 8)\n",
            "(36, 8) (12, 8)\n",
            "(36, 8) (12, 8)\n",
            "(36, 8) (12, 8)\n"
          ]
        },
        {
          "output_type": "display_data",
          "data": {
            "image/png": "[encoded data removed]",
            "text/plain": [
              "<Figure size 432x288 with 1 Axes>"
            ]
          },
          "metadata": {
            "needs_background": "light"
          }
        }
      ]
    },
    {
      "cell_type": "markdown",
      "metadata": {
        "id": "xZ8XiMKI48w5"
      },
      "source": [
        "## Bias-Variance Decomposition\n",
        "Visualize bias-variance trade-off by implementing the function `bias_variance_demo()` below:"
      ]
    },
    {
      "cell_type": "code",
      "metadata": {
        "id": "w0TrM38n48w6"
      },
      "source": [
        "from least_squares import least_squares\n",
        "from split_data import split_data\n",
        "from plots import bias_variance_decomposition_visualization\n",
        "\n",
        "def bias_variance_demo():\n",
        "    \"\"\"The entry.\"\"\"\n",
        "    # define parameters\n",
        "    seeds = range(100)\n",
        "    num_data = 10000\n",
        "    ratio_train = 0.005\n",
        "    degrees = range(1, 10)\n",
        "    \n",
        "    # define list to store the variable\n",
        "    rmse_tr = np.empty((len(seeds), len(degrees)))\n",
        "    rmse_te = np.empty((len(seeds), len(degrees)))\n",
        "    \n",
        "    for index_seed, seed in enumerate(seeds):\n",
        "        np.random.seed(seed)\n",
        "        x = np.linspace(0.1, 2 * np.pi, num_data)\n",
        "        y = np.sin(x) + 0.3 * np.random.randn(num_data).T\n",
        "        # ***************************************************\n",
        "        # INSERT YOUR CODE HERE\n",
        "        # split data with a specific seed: TODO\n",
        "        # ***************************************************\n",
        "        raise NotImplementedError\n",
        "        # ***************************************************\n",
        "        # INSERT YOUR CODE HERE\n",
        "        # bias_variance_decomposition: TODO\n",
        "        # ***************************************************\n",
        "        raise NotImplementedError\n",
        "\n",
        "    bias_variance_decomposition_visualization(degrees, rmse_tr, rmse_te)\n",
        "\n",
        "bias_variance_demo()"
      ],
      "execution_count": null,
      "outputs": []
    }
  ]
}