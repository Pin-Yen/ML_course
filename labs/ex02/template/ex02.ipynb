{
  "nbformat": 4,
  "nbformat_minor": 0,
  "metadata": {
    "anaconda-cloud": {},
    "kernelspec": {
      "display_name": "Python 3",
      "language": "python",
      "name": "python3"
    },
    "language_info": {
      "codemirror_mode": {
        "name": "ipython",
        "version": 3
      },
      "file_extension": ".py",
      "mimetype": "text/x-python",
      "name": "python",
      "nbconvert_exporter": "python",
      "pygments_lexer": "ipython3",
      "version": "3.6.10"
    },
    "colab": {
      "name": "ex02.ipynb",
      "provenance": []
    }
  },
  "cells": [
    {
      "cell_type": "code",
      "metadata": {
        "collapsed": true,
        "id": "Oeq1wNwMzYs-"
      },
      "source": [
        "# Useful starting lines\n",
        "%matplotlib inline\n",
        "import numpy as np\n",
        "import matplotlib.pyplot as plt\n",
        "%load_ext autoreload\n",
        "%autoreload 2"
      ],
      "execution_count": 1,
      "outputs": []
    },
    {
      "cell_type": "markdown",
      "metadata": {
        "id": "vU9q9-CAzYtA"
      },
      "source": [
        "# Load the data"
      ]
    },
    {
      "cell_type": "code",
      "metadata": {
        "collapsed": true,
        "id": "V9I4mBjJzYtA"
      },
      "source": [
        "import datetime\n",
        "from helpers import *\n",
        "\n",
        "height, weight, gender = load_data(sub_sample=False, add_outlier=False)\n",
        "x, mean_x, std_x = standardize(height)\n",
        "y, tx = build_model_data(x, weight)"
      ],
      "execution_count": 7,
      "outputs": []
    },
    {
      "cell_type": "code",
      "metadata": {
        "id": "TtBp34LEzYtB",
        "outputId": "86e08c54-e307-45bc-b87e-ffc1f8c06c49"
      },
      "source": [
        "y.shape, tx.shape"
      ],
      "execution_count": null,
      "outputs": [
        {
          "data": {
            "text/plain": [
              "((10000,), (10000, 2))"
            ]
          },
          "execution_count": 3,
          "metadata": {},
          "output_type": "execute_result"
        }
      ]
    },
    {
      "cell_type": "markdown",
      "metadata": {
        "id": "I2WsxgyBzYtB"
      },
      "source": [
        "# 1 Computing the Cost Function"
      ]
    },
    {
      "cell_type": "markdown",
      "metadata": {
        "id": "dgvtPWjFzYtC"
      },
      "source": [
        "Fill in the `compute_loss` function below:\n",
        "<a id='compute_loss'></a>\n"
      ]
    },
    {
      "cell_type": "code",
      "metadata": {
        "collapsed": true,
        "id": "YbPChIC0zYtC",
        "outputId": "1c2c844b-73eb-4446-fe25-cf305f84e712",
        "colab": {
          "base_uri": "https://localhost:8080/"
        }
      },
      "source": [
        "def compute_loss(y, tx, w):\n",
        "    print(y)\n",
        "    print(tx)\n",
        "    print(w)\n",
        "    \"\"\"Calculate the loss.\n",
        "\n",
        "    You can calculate the loss using mse or mae.\n",
        "    \"\"\"\n",
        "    return  np.sumabs(y - np.dot(tx, w)) / 2 * tx.size[0]\n",
        "\n",
        "    "
      ],
      "execution_count": 12,
      "outputs": [
        {
          "output_type": "stream",
          "name": "stdout",
          "text": [
            "[109.81967768  73.68895452  96.58434842 ...  58.32779473  74.38901745\n",
            "  51.59669261]\n",
            "[[ 1.          1.94406149]\n",
            " [ 1.          0.62753668]\n",
            " [ 1.          2.01244346]\n",
            " ...\n",
            " [ 1.         -0.64968792]\n",
            " [ 1.          0.69312469]\n",
            " [ 1.         -1.14970831]]\n",
            "[109.81967768  73.68895452  96.58434842 ...  58.32779473  74.38901745\n",
            "  51.59669261]\n"
          ]
        }
      ]
    },
    {
      "cell_type": "markdown",
      "metadata": {
        "id": "Ac2IZ_TozYtC"
      },
      "source": [
        "# 2 Grid Search\n",
        "\n",
        "Fill in the function `grid_search()` below:"
      ]
    },
    {
      "cell_type": "code",
      "metadata": {
        "collapsed": true,
        "id": "QMPJeTcPzYtD"
      },
      "source": [
        "def grid_search(y, tx, w0, w1):\n",
        "    \"\"\"Algorithm for grid search.\"\"\"\n",
        "    losses = np.zeros((len(w0), len(w1)))\n",
        "    # ***************************************************\n",
        "    # INSERT YOUR CODE HERE\n",
        "    # TODO: compute loss for each combination of w0 and w1.\n",
        "    # ***************************************************\n",
        "    raise NotImplementedError\n",
        "    return losses"
      ],
      "execution_count": null,
      "outputs": []
    },
    {
      "cell_type": "markdown",
      "metadata": {
        "id": "0ZLMRdBjzYtD"
      },
      "source": [
        "Let us play with the grid search demo now!"
      ]
    },
    {
      "cell_type": "code",
      "metadata": {
        "collapsed": true,
        "id": "5UvMQ2HAzYtD"
      },
      "source": [
        "from grid_search import generate_w, get_best_parameters\n",
        "from plots import grid_visualization\n",
        "\n",
        "# Generate the grid of parameters to be swept\n",
        "grid_w0, grid_w1 = generate_w(num_intervals=10)\n",
        "\n",
        "# Start the grid search\n",
        "start_time = datetime.datetime.now()\n",
        "grid_losses = grid_search(y, tx, grid_w0, grid_w1)\n",
        "\n",
        "# Select the best combinaison\n",
        "loss_star, w0_star, w1_star = get_best_parameters(grid_w0, grid_w1, grid_losses)\n",
        "end_time = datetime.datetime.now()\n",
        "execution_time = (end_time - start_time).total_seconds()\n",
        "\n",
        "# Print the results\n",
        "print(\"Grid Search: loss*={l}, w0*={w0}, w1*={w1}, execution time={t:.3f} seconds\".format(\n",
        "      l=loss_star, w0=w0_star, w1=w1_star, t=execution_time))\n",
        "\n",
        "# Plot the results\n",
        "fig = grid_visualization(grid_losses, grid_w0, grid_w1, mean_x, std_x, height, weight)\n",
        "fig.set_size_inches(10.0,6.0)\n",
        "fig.savefig(\"grid_plot\")  # Optional saving"
      ],
      "execution_count": null,
      "outputs": []
    },
    {
      "cell_type": "markdown",
      "metadata": {
        "id": "P0epdUL8zYtE"
      },
      "source": [
        "# 3 Gradient Descent"
      ]
    },
    {
      "cell_type": "markdown",
      "metadata": {
        "id": "9vnXtLEDzYtE"
      },
      "source": [
        "Again, please fill in the functions `compute_gradient` below:"
      ]
    },
    {
      "cell_type": "code",
      "metadata": {
        "collapsed": true,
        "id": "OjU7JA3xzYtE"
      },
      "source": [
        "def compute_gradient(y, tx, w):\n",
        "    \"\"\"Compute the gradient.\"\"\"\n",
        "    # ***************************************************\n",
        "    # INSERT YOUR CODE HERE\n",
        "    # TODO: compute gradient and error vector\n",
        "    # ***************************************************\n",
        "    raise NotImplementedError"
      ],
      "execution_count": null,
      "outputs": []
    },
    {
      "cell_type": "markdown",
      "metadata": {
        "id": "Gqrg2NprzYtE"
      },
      "source": [
        "Please fill in the functions `gradient_descent` below:"
      ]
    },
    {
      "cell_type": "code",
      "metadata": {
        "collapsed": true,
        "id": "SGSFXXvhzYtE"
      },
      "source": [
        "def gradient_descent(y, tx, initial_w, max_iters, gamma):\n",
        "    \"\"\"Gradient descent algorithm.\"\"\"\n",
        "    # Define parameters to store w and loss\n",
        "    ws = [initial_w]\n",
        "    losses = []\n",
        "    w = initial_w\n",
        "    for n_iter in range(max_iters):\n",
        "        # ***************************************************\n",
        "        # INSERT YOUR CODE HERE\n",
        "        # TODO: compute gradient and loss\n",
        "        # ***************************************************\n",
        "        raise NotImplementedError\n",
        "        # ***************************************************\n",
        "        # INSERT YOUR CODE HERE\n",
        "        # TODO: update w by gradient\n",
        "        # ***************************************************\n",
        "        raise NotImplementedError\n",
        "        # store w and loss\n",
        "        ws.append(w)\n",
        "        losses.append(loss)\n",
        "        print(\"Gradient Descent({bi}/{ti}): loss={l}, w0={w0}, w1={w1}\".format(\n",
        "              bi=n_iter, ti=max_iters - 1, l=loss, w0=w[0], w1=w[1]))\n",
        "\n",
        "    return losses, ws"
      ],
      "execution_count": null,
      "outputs": []
    },
    {
      "cell_type": "markdown",
      "metadata": {
        "id": "CF63mCl9zYtF"
      },
      "source": [
        "Test your gradient descent function through gradient descent demo shown below:"
      ]
    },
    {
      "cell_type": "code",
      "metadata": {
        "collapsed": true,
        "id": "j_Sfr3w6zYtF"
      },
      "source": [
        "# from gradient_descent import *\n",
        "from plots import gradient_descent_visualization\n",
        "\n",
        "# Define the parameters of the algorithm.\n",
        "max_iters = 50\n",
        "gamma = 0.7\n",
        "\n",
        "# Initialization\n",
        "w_initial = np.array([0, 0])\n",
        "\n",
        "# Start gradient descent.\n",
        "start_time = datetime.datetime.now()\n",
        "gradient_losses, gradient_ws = gradient_descent(y, tx, w_initial, max_iters, gamma)\n",
        "end_time = datetime.datetime.now()\n",
        "\n",
        "# Print result\n",
        "exection_time = (end_time - start_time).total_seconds()\n",
        "print(\"Gradient Descent: execution time={t:.3f} seconds\".format(t=exection_time))"
      ],
      "execution_count": null,
      "outputs": []
    },
    {
      "cell_type": "code",
      "metadata": {
        "collapsed": true,
        "id": "4vOjH12qzYtF"
      },
      "source": [
        "# Time Visualization\n",
        "from ipywidgets import IntSlider, interact\n",
        "\n",
        "def plot_figure(n_iter):\n",
        "    fig = gradient_descent_visualization(\n",
        "        gradient_losses, gradient_ws, grid_losses, grid_w0, grid_w1, mean_x, std_x, height, weight, n_iter)\n",
        "    fig.set_size_inches(10.0, 6.0)\n",
        "\n",
        "interact(plot_figure, n_iter=IntSlider(min=1, max=len(gradient_ws)))"
      ],
      "execution_count": null,
      "outputs": []
    },
    {
      "cell_type": "markdown",
      "metadata": {
        "id": "kI9uCofJzYtF"
      },
      "source": [
        "# 4 Stochastic gradient descent"
      ]
    },
    {
      "cell_type": "code",
      "metadata": {
        "collapsed": true,
        "id": "3vyan0vVzYtF"
      },
      "source": [
        "def compute_stoch_gradient(y, tx, w):\n",
        "    \"\"\"Compute a stochastic gradient from just few examples n and their corresponding y_n labels.\"\"\"\n",
        "    # ***************************************************\n",
        "    # INSERT YOUR CODE HERE\n",
        "    # TODO: implement stochastic gradient computation.It's same as the gradient descent.\n",
        "    # ***************************************************\n",
        "    raise NotImplementedError\n",
        "\n",
        "\n",
        "def stochastic_gradient_descent(\n",
        "        y, tx, initial_w, batch_size, max_iters, gamma):\n",
        "    \"\"\"Stochastic gradient descent algorithm.\"\"\"\n",
        "    # ***************************************************\n",
        "    # INSERT YOUR CODE HERE\n",
        "    # TODO: implement stochastic gradient descent.\n",
        "    # ***************************************************\n",
        "    raise NotImplementedError\n",
        "    return losses, ws"
      ],
      "execution_count": null,
      "outputs": []
    },
    {
      "cell_type": "code",
      "metadata": {
        "collapsed": true,
        "id": "TJ4hHdWrzYtG"
      },
      "source": [
        "# from stochastic_gradient_descent import *\n",
        "\n",
        "# Define the parameters of the algorithm.\n",
        "max_iters = 50\n",
        "gamma = 0.7\n",
        "batch_size = 1\n",
        "\n",
        "# Initialization\n",
        "w_initial = np.array([0, 0])\n",
        "\n",
        "# Start SGD.\n",
        "start_time = datetime.datetime.now()\n",
        "sgd_losses, sgd_ws = stochastic_gradient_descent(\n",
        "    y, tx, w_initial, batch_size, max_iters, gamma)\n",
        "end_time = datetime.datetime.now()\n",
        "\n",
        "# Print result\n",
        "exection_time = (end_time - start_time).total_seconds()\n",
        "print(\"SGD: execution time={t:.3f} seconds\".format(t=exection_time))"
      ],
      "execution_count": null,
      "outputs": []
    },
    {
      "cell_type": "code",
      "metadata": {
        "collapsed": true,
        "id": "8xvugShlzYtG"
      },
      "source": [
        "# Time Visualization\n",
        "from ipywidgets import IntSlider, interact\n",
        "def plot_figure(n_iter):\n",
        "    fig = gradient_descent_visualization(\n",
        "        sgd_losses, sgd_ws, grid_losses, grid_w0, grid_w1, mean_x, std_x, height, weight, n_iter)\n",
        "    fig.set_size_inches(10.0, 6.0)\n",
        "\n",
        "interact(plot_figure, n_iter=IntSlider(min=1, max=len(gradient_ws)))"
      ],
      "execution_count": null,
      "outputs": []
    },
    {
      "cell_type": "markdown",
      "metadata": {
        "id": "mEhovmwnzYtG"
      },
      "source": [
        "# 5 Effect of Outliers"
      ]
    },
    {
      "cell_type": "markdown",
      "metadata": {
        "id": "IK7PSDqbzYtG"
      },
      "source": [
        "### Exercise 5\n"
      ]
    },
    {
      "cell_type": "code",
      "metadata": {
        "collapsed": true,
        "id": "NGuHIdNuzYtG"
      },
      "source": [
        ""
      ],
      "execution_count": null,
      "outputs": []
    },
    {
      "cell_type": "markdown",
      "metadata": {
        "id": "_OA9y2bFzYtG"
      },
      "source": [
        "# 6 Subgradient Descent"
      ]
    },
    {
      "cell_type": "markdown",
      "metadata": {
        "id": "R0GQSYdyzYtG"
      },
      "source": [
        "### Exercise 6"
      ]
    },
    {
      "cell_type": "markdown",
      "metadata": {
        "id": "Aub-4FypzYtG"
      },
      "source": [
        "Modify the function `compute_loss(y, tx, w)` for the Mean Absolute Error cost function [here](#compute_loss)"
      ]
    },
    {
      "cell_type": "code",
      "metadata": {
        "collapsed": true,
        "id": "V3xfRs9zzYtG"
      },
      "source": [
        ""
      ],
      "execution_count": null,
      "outputs": []
    }
  ]
}