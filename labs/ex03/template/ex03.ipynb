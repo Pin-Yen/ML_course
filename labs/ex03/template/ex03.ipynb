{
  "nbformat": 4,
  "nbformat_minor": 0,
  "metadata": {
    "anaconda-cloud": {},
    "kernelspec": {
      "display_name": "Python 3",
      "language": "python",
      "name": "python3"
    },
    "language_info": {
      "codemirror_mode": {
        "name": "ipython",
        "version": 3
      },
      "file_extension": ".py",
      "mimetype": "text/x-python",
      "name": "python",
      "nbconvert_exporter": "python",
      "pygments_lexer": "ipython3",
      "version": "3.6.1"
    },
    "colab": {
      "name": "ex03.ipynb",
      "provenance": []
    }
  },
  "cells": [
    {
      "cell_type": "code",
      "metadata": {
        "collapsed": true,
        "id": "zDb_bI4pzhoK"
      },
      "source": [
        "# Useful starting lines\n",
        "%matplotlib inline\n",
        "import numpy as np\n",
        "import matplotlib.pyplot as plt\n",
        "%load_ext autoreload\n",
        "%autoreload 2"
      ],
      "execution_count": 1,
      "outputs": []
    },
    {
      "cell_type": "markdown",
      "metadata": {
        "id": "A1VFPQvwzhoM"
      },
      "source": [
        "# 1 Least squares and linear basis functions models\n",
        "## 1.1 Least squares"
      ]
    },
    {
      "cell_type": "code",
      "metadata": {
        "collapsed": true,
        "id": "ZkkENfjXzhoN"
      },
      "source": [
        "def least_squares(y, tx):\n",
        "    \"\"\"calculate the least squares solution.\"\"\"\n",
        "    A = np.dot(tx.T, tx)\n",
        "    B = np.dot(tx.T, y)\n",
        "    # Aw = B\n",
        "    weights = np.linalg.solve(A, B)\n",
        "    return weights\n",
        "\n",
        "def calculate_mse(y, tx, w):\n",
        "  error = y - np.dot(tx, w)\n",
        "  return np.dot(error.T, error) / (2*error.shape[0])\n"
      ],
      "execution_count": 2,
      "outputs": []
    },
    {
      "cell_type": "markdown",
      "metadata": {
        "id": "6l8Y413XzhoN"
      },
      "source": [
        "### Load the data\n",
        "Here we will reuse the dataset `height_weight_genders.csv` from previous exercise section to check the correctness of your implementation. Please compare it with your previous result."
      ]
    },
    {
      "cell_type": "code",
      "metadata": {
        "id": "hWqYXuZNzhoN"
      },
      "source": [
        "from helpers import *\n",
        "def test_your_least_squares():\n",
        "    height, weight, gender = load_data_from_ex02(sub_sample=False, add_outlier=False)\n",
        "    x, mean_x, std_x = standardize(height)\n",
        "    y, tx = build_model_data(x, weight)\n",
        "    # ***************************************************\n",
        "    # INSERT YOUR CODE HERE\n",
        "    # least square or grid search: TODO\n",
        "    # this code should compare the optimal weights obtained \n",
        "    # by least squares vs. grid search\n",
        "    # ***************************************************\n",
        "    w = least_squares(y, tx)\n",
        "    print(w)\n",
        "    print(calculate_mse(y, tx, w))\n",
        "\n",
        "\n",
        "    best_w = None\n",
        "    best_error = 1e9\n",
        "\n",
        "    for i in range(0, 100, 1):\n",
        "      for j in range(0, 100, 1):\n",
        "        w = np.array([i, j])\n",
        "        err = calculate_mse(y, tx, w)\n",
        "        if err < best_error:\n",
        "          best_error = err\n",
        "          best_w = w\n",
        "    print(best_w, best_error)"
      ],
      "execution_count": 3,
      "outputs": []
    },
    {
      "cell_type": "markdown",
      "metadata": {
        "id": "dl1EUUb1zhoO"
      },
      "source": [
        "Test it here"
      ]
    },
    {
      "cell_type": "code",
      "metadata": {
        "id": "noPsxDvVzhoO",
        "colab": {
          "base_uri": "https://localhost:8080/"
        },
        "outputId": "7d35f987-2a79-464f-ebec-10a88a163f95"
      },
      "source": [
        "test_your_least_squares()"
      ],
      "execution_count": 4,
      "outputs": [
        {
          "output_type": "stream",
          "name": "stdout",
          "text": [
            "[73.293922   13.47971243]\n",
            "15.385887868829398\n",
            "[73 13] 15.54414495063172\n"
          ]
        }
      ]
    },
    {
      "cell_type": "markdown",
      "metadata": {
        "id": "J43nJLBZzhoP"
      },
      "source": [
        "## 1.2 Least squares with a linear basis function model\n",
        "Start from this section, we will use the dataset `dataEx3.csv`.\n",
        "\n",
        "### Implement polynomial basis functions"
      ]
    },
    {
      "cell_type": "code",
      "metadata": {
        "scrolled": true,
        "id": "PRQ2TfXezhoQ",
        "colab": {
          "base_uri": "https://localhost:8080/"
        },
        "outputId": "574f282a-82d3-435b-b0a6-da4fee7c53d4"
      },
      "source": [
        "# load dataset\n",
        "x, y = load_data()\n",
        "print(\"shape of x {}\".format(x.shape))\n",
        "print(\"shape of y {}\".format(y.shape))"
      ],
      "execution_count": 5,
      "outputs": [
        {
          "output_type": "stream",
          "name": "stdout",
          "text": [
            "shape of x (50,)\n",
            "shape of y (50,)\n"
          ]
        }
      ]
    },
    {
      "cell_type": "code",
      "metadata": {
        "collapsed": true,
        "id": "WlsYn2s5zhoQ"
      },
      "source": [
        "def build_poly(x, degree):\n",
        "    \"\"\"polynomial basis functions for input data x, for j=0 up to j=degree.\"\"\"\n",
        "    # ***************************************************\n",
        "    # INSERT YOUR CODE HERE\n",
        "    # polynomial basis function: TODO\n",
        "    # this function should return the matrix formed\n",
        "    # by applying the polynomial basis to the input data\n",
        "    # ***************************************************\n",
        "\n",
        "    x = np.reshape(x, (-1, 1))\n",
        "    return np.hstack([x**j for j in range (0, degree)])\n",
        "\n",
        "poly_x = build_poly(x, 3)\n"
      ],
      "execution_count": 6,
      "outputs": []
    },
    {
      "cell_type": "markdown",
      "metadata": {
        "id": "xO2Kp2H_zhoR"
      },
      "source": [
        "Let us play with polynomial regression. Note that we will use your implemented function `compute_mse`. Please copy and paste your implementation from exercise02."
      ]
    },
    {
      "cell_type": "code",
      "metadata": {
        "collapsed": true,
        "id": "jTrif1PwzhoR"
      },
      "source": [
        "from plots import *\n",
        "\n",
        "def polynomial_regression():\n",
        "    \"\"\"Constructing the polynomial basis function expansion of the data,\n",
        "       and then running least squares regression.\"\"\"\n",
        "    # define parameters\n",
        "    degrees = [1, 3, 7, 12]\n",
        "    \n",
        "    # define the structure of the figure\n",
        "    num_row = 2\n",
        "    num_col = 2\n",
        "    f, axs = plt.subplots(num_row, num_col)\n",
        "\n",
        "    for ind, degree in enumerate(degrees):\n",
        "        # ***************************************************\n",
        "        # INSERT YOUR CODE HERE\n",
        "        # form the data to do polynomial regression.: TODO\n",
        "        # ***************************************************\n",
        "        poly_x = build_poly(x, degree)\n",
        "        weights = least_squares(y, poly_x)\n",
        "        # ***************************************************\n",
        "        # INSERT YOUR CODE HERE\n",
        "        # least square and calculate RMSE: TODO\n",
        "        # ***************************************************\n",
        "        rmse = calculate_mse(y, poly_x, weights)\n",
        "        print(\"Processing {i}th experiment, degree={d}, rmse={loss}\".format(\n",
        "              i=ind + 1, d=degree, loss=rmse))\n",
        "        # plot fit\n",
        "        plot_fitted_curve(\n",
        "            y, x, weights, degree, axs[ind // num_col][ind % num_col])\n",
        "    plt.tight_layout()\n",
        "    plt.savefig(\"visualize_polynomial_regression\")\n",
        "    plt.show()"
      ],
      "execution_count": 7,
      "outputs": []
    },
    {
      "cell_type": "markdown",
      "metadata": {
        "id": "X5Tb5xCtzhoR"
      },
      "source": [
        "Run polynomial regression"
      ]
    },
    {
      "cell_type": "code",
      "metadata": {
        "id": "GKzUWX4PzhoS",
        "colab": {
          "base_uri": "https://localhost:8080/",
          "height": 365
        },
        "outputId": "3c1ef9a3-fa6c-49ae-fdc9-a7ca016f03b7"
      },
      "source": [
        "polynomial_regression()"
      ],
      "execution_count": 8,
      "outputs": [
        {
          "output_type": "stream",
          "name": "stdout",
          "text": [
            "Processing 1th experiment, degree=1, rmse=0.11133351726547977\n",
            "Processing 2th experiment, degree=3, rmse=0.033432526197090515\n",
            "Processing 3th experiment, degree=7, rmse=0.031164734143880685\n",
            "Processing 4th experiment, degree=12, rmse=0.029567384017593512\n"
          ]
        },
        {
          "output_type": "display_data",
          "data": {
            "image/png": "[encoded data removed]",
            "text/plain": [
              "<Figure size 432x288 with 4 Axes>"
            ]
          },
          "metadata": {
            "needs_background": "light"
          }
        }
      ]
    },
    {
      "cell_type": "markdown",
      "metadata": {
        "id": "NcSu39KQzhoS"
      },
      "source": [
        "# 2 Evaluating model predication performance\n",
        "\n",
        "\n",
        "Let us show the train and test splits for various polynomial degrees. First of all, please fill in the function `split_data()`"
      ]
    },
    {
      "cell_type": "code",
      "metadata": {
        "collapsed": true,
        "id": "gP5dXcBKzhoS"
      },
      "source": [
        "import math\n",
        "\n",
        "def split_data(x, y, ratio, seed=1):\n",
        "    \"\"\"\n",
        "    split the dataset based on the split ratio. If ratio is 0.8 \n",
        "    you will have 80% of your data set dedicated to training \n",
        "    and the rest dedicated to testing\n",
        "    \"\"\"\n",
        "    # set seed\n",
        "    np.random.seed(seed)\n",
        "    rand_permutation = np.random.permutation(x.shape[0])\n",
        "    shuffled_x = x[rand_permutation]\n",
        "    shuffled_y = y[rand_permutation]\n",
        "\n",
        "    train_size = math.floor(x.shape[0] * ratio)\n",
        "    x_train = shuffled_x[:train_size]\n",
        "    x_validate = shuffled_x[train_size:]\n",
        "    y_train = shuffled_y[:train_size]\n",
        "    y_validate = shuffled_y[train_size:]\n",
        "\n",
        "    return x_train, x_validate, y_train, y_validate"
      ],
      "execution_count": 9,
      "outputs": []
    },
    {
      "cell_type": "markdown",
      "metadata": {
        "id": "-ouf2ZmGzhoS"
      },
      "source": [
        "Then, test your `split_data` function below."
      ]
    },
    {
      "cell_type": "code",
      "metadata": {
        "collapsed": true,
        "id": "LZX-i6MkzhoS"
      },
      "source": [
        "def train_test_split_demo(x, y, degree, ratio, seed):\n",
        "    \"\"\"polynomial regression with different split ratios and different degrees.\"\"\"\n",
        "    # ***************************************************\n",
        "    # INSERT YOUR CODE HERE\n",
        "    # split the data, and return train and test data: TODO\n",
        "    # ***************************************************\n",
        "    x_train, x_validate, y_train, y_validate = split_data(x, y, ratio)\n",
        "    # ***************************************************\n",
        "    # INSERT YOUR CODE HERE\n",
        "    # form train and test data with polynomial basis function: TODO\n",
        "    # ***************************************************\n",
        "    x_train_poly = build_poly(x_train, degree)\n",
        "    x_validate_poly = build_poly(x_validate, degree)\n",
        "    # ***************************************************\n",
        "    # INSERT YOUR CODE HERE\n",
        "    # calculate weight through least square: TODO\n",
        "    # ***************************************************\n",
        "    weights = least_squares(y_train, x_train_poly)\n",
        "    # ***************************************************\n",
        "    # INSERT YOUR CODE HERE\n",
        "    # calculate RMSE for train and test data,\n",
        "    # and store them in rmse_tr and rmse_te respectively: TODO\n",
        "    # ***************************************************\n",
        "    rmse_tr = calculate_mse(y_train, x_train_poly, weights)\n",
        "    rmse_te = calculate_mse(y_validate, x_validate_poly, weights)\n",
        "    print(\"proportion={p}, degree={d}, Training RMSE={tr:.3f}, Testing RMSE={te:.3f}\".format(\n",
        "          p=ratio, d=degree, tr=rmse_tr, te=rmse_te))\n"
      ],
      "execution_count": 10,
      "outputs": []
    },
    {
      "cell_type": "code",
      "metadata": {
        "collapsed": true,
        "id": "eeRIJ-j1zhoT",
        "colab": {
          "base_uri": "https://localhost:8080/"
        },
        "outputId": "f6aa38ca-b011-48b4-ba83-1121b948c0c5"
      },
      "source": [
        "seed = 6\n",
        "degrees = [1, 3, 7, 12]\n",
        "split_ratios = [0.9, 0.5, 0.1]\n",
        "\n",
        "for split_ratio in split_ratios:\n",
        "    for degree in degrees:\n",
        "        train_test_split_demo(x, y, degree, split_ratio, seed)"
      ],
      "execution_count": 11,
      "outputs": [
        {
          "output_type": "stream",
          "name": "stdout",
          "text": [
            "proportion=0.9, degree=1, Training RMSE=0.103, Testing RMSE=0.193\n",
            "proportion=0.9, degree=3, Training RMSE=0.035, Testing RMSE=0.023\n",
            "proportion=0.9, degree=7, Training RMSE=0.033, Testing RMSE=0.018\n",
            "proportion=0.9, degree=12, Training RMSE=0.031, Testing RMSE=0.023\n",
            "proportion=0.5, degree=1, Training RMSE=0.080, Testing RMSE=0.153\n",
            "proportion=0.5, degree=3, Training RMSE=0.028, Testing RMSE=0.047\n",
            "proportion=0.5, degree=7, Training RMSE=0.024, Testing RMSE=0.056\n",
            "proportion=0.5, degree=12, Training RMSE=0.023, Testing RMSE=0.061\n",
            "proportion=0.1, degree=1, Training RMSE=0.103, Testing RMSE=0.279\n",
            "proportion=0.1, degree=3, Training RMSE=0.006, Testing RMSE=0.227\n",
            "proportion=0.1, degree=7, Training RMSE=0.000, Testing RMSE=111.886\n",
            "proportion=0.1, degree=12, Training RMSE=0.000, Testing RMSE=5.260\n"
          ]
        }
      ]
    },
    {
      "cell_type": "markdown",
      "metadata": {
        "id": "tGxkHeFtzhoT"
      },
      "source": [
        "# 3 Ridge Regression\n",
        "Please fill in the function below."
      ]
    },
    {
      "cell_type": "code",
      "metadata": {
        "collapsed": true,
        "id": "rad5z5N5zhoT"
      },
      "source": [
        "def ridge_regression(y, tx, lambda_):\n",
        "    \"\"\"implement ridge regression.\"\"\"\n",
        "    # ***************************************************\n",
        "    # INSERT YOUR CODE HERE\n",
        "    # ridge regression: TODO\n",
        "    # ***************************************************\n",
        "    lambda_pron = 2 * y.shape[0] * lambda_\n",
        "    A = np.dot(tx.T, tx) + lambda_pron * np.identity(tx.shape[1])\n",
        "    B = np.dot(tx.T, y)\n",
        "    # Aw = B\n",
        "    weights = np.linalg.solve(A, B)\n",
        "\n",
        "    return weights"
      ],
      "execution_count": 13,
      "outputs": []
    },
    {
      "cell_type": "code",
      "metadata": {
        "collapsed": true,
        "id": "tkZSERdgzhoT"
      },
      "source": [
        "def ridge_regression_demo(x, y, degree, ratio, seed):\n",
        "    \"\"\"ridge regression demo.\"\"\"\n",
        "    # define parameter\n",
        "    lambdas = np.logspace(-5, 0, 15)\n",
        "    # ***************************************************\n",
        "    # INSERT YOUR CODE HERE\n",
        "    # split the data, and return train and test data: TODO\n",
        "    # ***************************************************\n",
        "    x_train, x_test, y_train, y_test = split_data(x, y, ratio, seed)\n",
        "    # ***************************************************\n",
        "    # INSERT YOUR CODE HERE\n",
        "    # form train and test data with polynomial basis function: TODO\n",
        "    # ***************************************************\n",
        "    x_train_poly = build_poly(x_train, degree)\n",
        "    x_test_poly = build_poly(x_test, degree)\n",
        "\n",
        "    rmse_tr = []\n",
        "    rmse_te = []\n",
        "    for ind, lambda_ in enumerate(lambdas):\n",
        "        # ***************************************************\n",
        "        # INSERT YOUR CODE HERE\n",
        "        # ridge regression with a given lambda\n",
        "        # ***************************************************\n",
        "        weights = ridge_regression(y_train, x_train_poly, lambda_)\n",
        "        train_error = np.sqrt(2*calculate_mse(y_train, x_train_poly, weights))\n",
        "        validate_error = np.sqrt(2*calculate_mse(y_test, x_test_poly, weights))\n",
        "        rmse_tr.append(train_error)\n",
        "        rmse_te.append(validate_error)\n",
        "        print(\"proportion={p}, degree={d}, lambda={l:.3f}, Training RMSE={tr:.3f}, Testing RMSE={te:.3f}\".format(\n",
        "               p=ratio, d=degree, l=lambda_, tr=rmse_tr[ind], te=rmse_te[ind]))\n",
        "        \n",
        "    # Plot the obtained results\n",
        "    plot_train_test(rmse_tr, rmse_te, lambdas, degree)\n",
        "\n"
      ],
      "execution_count": 16,
      "outputs": []
    },
    {
      "cell_type": "code",
      "metadata": {
        "collapsed": true,
        "id": "p9DcahKdzhoT",
        "colab": {
          "base_uri": "https://localhost:8080/",
          "height": 554
        },
        "outputId": "278a875e-98d0-4dd5-8e6a-d50f4e9261f7"
      },
      "source": [
        "seed = 56\n",
        "degree = 7\n",
        "split_ratio = 0.5\n",
        "ridge_regression_demo(x, y, degree, split_ratio, seed)"
      ],
      "execution_count": 17,
      "outputs": [
        {
          "output_type": "stream",
          "name": "stdout",
          "text": [
            "proportion=0.5, degree=7, lambda=0.000, Training RMSE=0.227, Testing RMSE=0.338\n",
            "proportion=0.5, degree=7, lambda=0.000, Training RMSE=0.227, Testing RMSE=0.337\n",
            "proportion=0.5, degree=7, lambda=0.000, Training RMSE=0.227, Testing RMSE=0.336\n",
            "proportion=0.5, degree=7, lambda=0.000, Training RMSE=0.227, Testing RMSE=0.335\n",
            "proportion=0.5, degree=7, lambda=0.000, Training RMSE=0.228, Testing RMSE=0.334\n",
            "proportion=0.5, degree=7, lambda=0.001, Training RMSE=0.228, Testing RMSE=0.333\n",
            "proportion=0.5, degree=7, lambda=0.001, Training RMSE=0.229, Testing RMSE=0.329\n",
            "proportion=0.5, degree=7, lambda=0.003, Training RMSE=0.230, Testing RMSE=0.319\n",
            "proportion=0.5, degree=7, lambda=0.007, Training RMSE=0.232, Testing RMSE=0.302\n",
            "proportion=0.5, degree=7, lambda=0.016, Training RMSE=0.237, Testing RMSE=0.283\n",
            "proportion=0.5, degree=7, lambda=0.037, Training RMSE=0.246, Testing RMSE=0.276\n",
            "proportion=0.5, degree=7, lambda=0.085, Training RMSE=0.264, Testing RMSE=0.298\n",
            "proportion=0.5, degree=7, lambda=0.193, Training RMSE=0.291, Testing RMSE=0.348\n",
            "proportion=0.5, degree=7, lambda=0.439, Training RMSE=0.317, Testing RMSE=0.401\n",
            "proportion=0.5, degree=7, lambda=1.000, Training RMSE=0.336, Testing RMSE=0.441\n"
          ]
        },
        {
          "output_type": "display_data",
          "data": {
            "image/png": "[encoded data removed]",
            "text/plain": [
              "<Figure size 432x288 with 1 Axes>"
            ]
          },
          "metadata": {
            "needs_background": "light"
          }
        }
      ]
    }
  ]
}