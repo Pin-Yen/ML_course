{
  "nbformat": 4,
  "nbformat_minor": 0,
  "metadata": {
    "anaconda-cloud": {},
    "kernelspec": {
      "display_name": "Python 3",
      "language": "python",
      "name": "python3"
    },
    "language_info": {
      "codemirror_mode": {
        "name": "ipython",
        "version": 3
      },
      "file_extension": ".py",
      "mimetype": "text/x-python",
      "name": "python",
      "nbconvert_exporter": "python",
      "pygments_lexer": "ipython3",
      "version": "3.6.1"
    },
    "colab": {
      "name": "ex03.ipynb",
      "provenance": []
    }
  },
  "cells": [
    {
      "cell_type": "code",
      "metadata": {
        "collapsed": true,
        "id": "zDb_bI4pzhoK"
      },
      "source": [
        "# Useful starting lines\n",
        "%matplotlib inline\n",
        "import numpy as np\n",
        "import matplotlib.pyplot as plt\n",
        "%load_ext autoreload\n",
        "%autoreload 2"
      ],
      "execution_count": 1,
      "outputs": []
    },
    {
      "cell_type": "markdown",
      "metadata": {
        "id": "A1VFPQvwzhoM"
      },
      "source": [
        "# 1 Least squares and linear basis functions models\n",
        "## 1.1 Least squares"
      ]
    },
    {
      "cell_type": "code",
      "metadata": {
        "collapsed": true,
        "id": "ZkkENfjXzhoN"
      },
      "source": [
        "def least_squares(y, tx):\n",
        "    \"\"\"calculate the least squares solution.\"\"\"\n",
        "    w = np.dot(np.dot(np.linalg.inv(np.dot(tx.T, tx)), tx.T), y)\n",
        "    return w\n",
        "\n",
        "def mse(y, tx, w):\n",
        "  error = y - np.dot(tx, w)\n",
        "  return np.dot(error.T, error) / error.shape[0]\n"
      ],
      "execution_count": 24,
      "outputs": []
    },
    {
      "cell_type": "markdown",
      "metadata": {
        "id": "6l8Y413XzhoN"
      },
      "source": [
        "### Load the data\n",
        "Here we will reuse the dataset `height_weight_genders.csv` from previous exercise section to check the correctness of your implementation. Please compare it with your previous result."
      ]
    },
    {
      "cell_type": "code",
      "metadata": {
        "id": "hWqYXuZNzhoN"
      },
      "source": [
        "from helpers import *\n",
        "def test_your_least_squares():\n",
        "    height, weight, gender = load_data_from_ex02(sub_sample=False, add_outlier=False)\n",
        "    x, mean_x, std_x = standardize(height)\n",
        "    y, tx = build_model_data(x, weight)\n",
        "    # ***************************************************\n",
        "    # INSERT YOUR CODE HERE\n",
        "    # least square or grid search: TODO\n",
        "    # this code should compare the optimal weights obtained \n",
        "    # by least squares vs. grid search\n",
        "    # ***************************************************\n",
        "    w = least_squares(y, tx)\n",
        "    print(w)\n",
        "    print(mse(y, tx, w))\n",
        "\n",
        "\n",
        "    best_w = None\n",
        "    best_error = 1e9\n",
        "\n",
        "    for i in range(0, 100, 1):\n",
        "      for j in range(0, 100, 1):\n",
        "        w = np.array([i, j])\n",
        "        err = mse(y, tx, w)\n",
        "        if err < best_error:\n",
        "          best_error = err\n",
        "          best_w = w\n",
        "    print(best_w, best_error)"
      ],
      "execution_count": 28,
      "outputs": []
    },
    {
      "cell_type": "markdown",
      "metadata": {
        "id": "dl1EUUb1zhoO"
      },
      "source": [
        "Test it here"
      ]
    },
    {
      "cell_type": "code",
      "metadata": {
        "id": "noPsxDvVzhoO",
        "outputId": "b16ed317-2a6f-402b-95d2-6cf817106383",
        "colab": {
          "base_uri": "https://localhost:8080/"
        }
      },
      "source": [
        "test_your_least_squares()"
      ],
      "execution_count": 29,
      "outputs": [
        {
          "output_type": "stream",
          "name": "stdout",
          "text": [
            "[73.293922   13.47971243]\n",
            "30.771775737658796\n",
            "[73 13] 31.08828990126344\n"
          ]
        }
      ]
    },
    {
      "cell_type": "markdown",
      "metadata": {
        "id": "J43nJLBZzhoP"
      },
      "source": [
        "## 1.2 Least squares with a linear basis function model\n",
        "Start from this section, we will use the dataset `dataEx3.csv`.\n",
        "\n",
        "### Implement polynomial basis functions"
      ]
    },
    {
      "cell_type": "code",
      "metadata": {
        "scrolled": true,
        "id": "PRQ2TfXezhoQ"
      },
      "source": [
        "# load dataset\n",
        "x, y = load_data()\n",
        "print(\"shape of x {}\".format(x.shape))\n",
        "print(\"shape of y {}\".format(y.shape))"
      ],
      "execution_count": null,
      "outputs": []
    },
    {
      "cell_type": "code",
      "metadata": {
        "collapsed": true,
        "id": "WlsYn2s5zhoQ"
      },
      "source": [
        "def build_poly(x, degree):\n",
        "    \"\"\"polynomial basis functions for input data x, for j=0 up to j=degree.\"\"\"\n",
        "    # ***************************************************\n",
        "    # INSERT YOUR CODE HERE\n",
        "    # polynomial basis function: TODO\n",
        "    # this function should return the matrix formed\n",
        "    # by applying the polynomial basis to the input data\n",
        "    # ***************************************************\n",
        "    raise NotImplementedError"
      ],
      "execution_count": null,
      "outputs": []
    },
    {
      "cell_type": "markdown",
      "metadata": {
        "id": "xO2Kp2H_zhoR"
      },
      "source": [
        "Let us play with polynomial regression. Note that we will use your implemented function `compute_mse`. Please copy and paste your implementation from exercise02."
      ]
    },
    {
      "cell_type": "code",
      "metadata": {
        "collapsed": true,
        "id": "jTrif1PwzhoR"
      },
      "source": [
        "from plots import *\n",
        "\n",
        "def polynomial_regression():\n",
        "    \"\"\"Constructing the polynomial basis function expansion of the data,\n",
        "       and then running least squares regression.\"\"\"\n",
        "    # define parameters\n",
        "    degrees = [1, 3, 7, 12]\n",
        "    \n",
        "    # define the structure of the figure\n",
        "    num_row = 2\n",
        "    num_col = 2\n",
        "    f, axs = plt.subplots(num_row, num_col)\n",
        "\n",
        "    for ind, degree in enumerate(degrees):\n",
        "        # ***************************************************\n",
        "        # INSERT YOUR CODE HERE\n",
        "        # form the data to do polynomial regression.: TODO\n",
        "        # ***************************************************\n",
        "        raise NotImplementedError\n",
        "        # ***************************************************\n",
        "        # INSERT YOUR CODE HERE\n",
        "        # least square and calculate RMSE: TODO\n",
        "        # ***************************************************\n",
        "        raise NotImplementedError\n",
        "\n",
        "        print(\"Processing {i}th experiment, degree={d}, rmse={loss}\".format(\n",
        "              i=ind + 1, d=degree, loss=rmse))\n",
        "        # plot fit\n",
        "        plot_fitted_curve(\n",
        "            y, x, weights, degree, axs[ind // num_col][ind % num_col])\n",
        "    plt.tight_layout()\n",
        "    plt.savefig(\"visualize_polynomial_regression\")\n",
        "    plt.show()"
      ],
      "execution_count": null,
      "outputs": []
    },
    {
      "cell_type": "markdown",
      "metadata": {
        "id": "X5Tb5xCtzhoR"
      },
      "source": [
        "Run polynomial regression"
      ]
    },
    {
      "cell_type": "code",
      "metadata": {
        "id": "GKzUWX4PzhoS",
        "outputId": "6838e90b-d5cb-4bdc-d56e-012a15945120"
      },
      "source": [
        "polynomial_regression()"
      ],
      "execution_count": null,
      "outputs": [
        {
          "ename": "NameError",
          "evalue": "name 'polynomial_regression' is not defined",
          "output_type": "error",
          "traceback": [
            "\u001b[0;31m---------------------------------------------------------------------------\u001b[0m",
            "\u001b[0;31mNameError\u001b[0m                                 Traceback (most recent call last)",
            "\u001b[0;32m<ipython-input-6-72f17602a742>\u001b[0m in \u001b[0;36m<module>\u001b[0;34m()\u001b[0m\n\u001b[0;32m----> 1\u001b[0;31m \u001b[0mpolynomial_regression\u001b[0m\u001b[0;34m(\u001b[0m\u001b[0;34m)\u001b[0m\u001b[0;34m\u001b[0m\u001b[0m\n\u001b[0m",
            "\u001b[0;31mNameError\u001b[0m: name 'polynomial_regression' is not defined"
          ]
        }
      ]
    },
    {
      "cell_type": "markdown",
      "metadata": {
        "id": "NcSu39KQzhoS"
      },
      "source": [
        "# 2 Evaluating model predication performance\n",
        "\n",
        "\n",
        "Let us show the train and test splits for various polynomial degrees. First of all, please fill in the function `split_data()`"
      ]
    },
    {
      "cell_type": "code",
      "metadata": {
        "collapsed": true,
        "id": "gP5dXcBKzhoS"
      },
      "source": [
        "def split_data(x, y, ratio, seed=1):\n",
        "    \"\"\"\n",
        "    split the dataset based on the split ratio. If ratio is 0.8 \n",
        "    you will have 80% of your data set dedicated to training \n",
        "    and the rest dedicated to testing\n",
        "    \"\"\"\n",
        "    # set seed\n",
        "    np.random.seed(seed)\n",
        "    # ***************************************************\n",
        "    # INSERT YOUR CODE HERE\n",
        "    # split the data based on the given ratio: TODO\n",
        "    # ***************************************************\n",
        "    raise NotImplementedError"
      ],
      "execution_count": null,
      "outputs": []
    },
    {
      "cell_type": "markdown",
      "metadata": {
        "id": "-ouf2ZmGzhoS"
      },
      "source": [
        "Then, test your `split_data` function below."
      ]
    },
    {
      "cell_type": "code",
      "metadata": {
        "collapsed": true,
        "id": "LZX-i6MkzhoS"
      },
      "source": [
        "def train_test_split_demo(x, y, degree, ratio, seed):\n",
        "    \"\"\"polynomial regression with different split ratios and different degrees.\"\"\"\n",
        "    # ***************************************************\n",
        "    # INSERT YOUR CODE HERE\n",
        "    # split the data, and return train and test data: TODO\n",
        "    # ***************************************************\n",
        "    raise NotImplementedError\n",
        "    # ***************************************************\n",
        "    # INSERT YOUR CODE HERE\n",
        "    # form train and test data with polynomial basis function: TODO\n",
        "    # ***************************************************\n",
        "    raise NotImplementedError\n",
        "    # ***************************************************\n",
        "    # INSERT YOUR CODE HERE\n",
        "    # calculate weight through least square: TODO\n",
        "    # ***************************************************\n",
        "    raise NotImplementedError\n",
        "    # ***************************************************\n",
        "    # INSERT YOUR CODE HERE\n",
        "    # calculate RMSE for train and test data,\n",
        "    # and store them in rmse_tr and rmse_te respectively: TODO\n",
        "    # ***************************************************\n",
        "    raise NotImplementedError\n",
        "    print(\"proportion={p}, degree={d}, Training RMSE={tr:.3f}, Testing RMSE={te:.3f}\".format(\n",
        "          p=ratio, d=degree, tr=rmse_tr, te=rmse_te))\n"
      ],
      "execution_count": null,
      "outputs": []
    },
    {
      "cell_type": "code",
      "metadata": {
        "collapsed": true,
        "id": "eeRIJ-j1zhoT"
      },
      "source": [
        "seed = 6\n",
        "degrees = [1, 3, 7, 12]\n",
        "split_ratios = [0.9, 0.5, 0.1]\n",
        "\n",
        "for split_ratio in split_ratios:\n",
        "    for degree in degrees:\n",
        "        train_test_split_demo(x, y, degree, split_ratio, seed)"
      ],
      "execution_count": null,
      "outputs": []
    },
    {
      "cell_type": "markdown",
      "metadata": {
        "id": "tGxkHeFtzhoT"
      },
      "source": [
        "# 3 Ridge Regression\n",
        "Please fill in the function below."
      ]
    },
    {
      "cell_type": "code",
      "metadata": {
        "collapsed": true,
        "id": "rad5z5N5zhoT"
      },
      "source": [
        "def ridge_regression(y, tx, lambda_):\n",
        "    \"\"\"implement ridge regression.\"\"\"\n",
        "    # ***************************************************\n",
        "    # INSERT YOUR CODE HERE\n",
        "    # ridge regression: TODO\n",
        "    # ***************************************************\n",
        "    raise NotImplementedError"
      ],
      "execution_count": null,
      "outputs": []
    },
    {
      "cell_type": "code",
      "metadata": {
        "collapsed": true,
        "id": "tkZSERdgzhoT"
      },
      "source": [
        "def ridge_regression_demo(x, y, degree, ratio, seed):\n",
        "    \"\"\"ridge regression demo.\"\"\"\n",
        "    # define parameter\n",
        "    lambdas = np.logspace(-5, 0, 15)\n",
        "    # ***************************************************\n",
        "    # INSERT YOUR CODE HERE\n",
        "    # split the data, and return train and test data: TODO\n",
        "    # ***************************************************\n",
        "    raise NotImplementedError\n",
        "    # ***************************************************\n",
        "    # INSERT YOUR CODE HERE\n",
        "    # form train and test data with polynomial basis function: TODO\n",
        "    # ***************************************************\n",
        "    raise NotImplementedError\n",
        "\n",
        "    rmse_tr = []\n",
        "    rmse_te = []\n",
        "    for ind, lambda_ in enumerate(lambdas):\n",
        "        # ***************************************************\n",
        "        # INSERT YOUR CODE HERE\n",
        "        # ridge regression with a given lambda\n",
        "        # ***************************************************\n",
        "        print(\"proportion={p}, degree={d}, lambda={l:.3f}, Training RMSE={tr:.3f}, Testing RMSE={te:.3f}\".format(\n",
        "               p=ratio, d=degree, l=lambda_, tr=rmse_tr[ind], te=rmse_te[ind]))\n",
        "        \n",
        "    # Plot the obtained results\n",
        "    plot_train_test(rmse_tr, rmse_te, lambdas, degree)\n",
        "\n",
        "    raise NotImplementedError\n"
      ],
      "execution_count": null,
      "outputs": []
    },
    {
      "cell_type": "code",
      "metadata": {
        "collapsed": true,
        "id": "p9DcahKdzhoT"
      },
      "source": [
        "seed = 56\n",
        "degree = 7\n",
        "split_ratio = 0.5\n",
        "ridge_regression_demo(x, y, degree, split_ratio, seed)"
      ],
      "execution_count": null,
      "outputs": []
    }
  ]
}