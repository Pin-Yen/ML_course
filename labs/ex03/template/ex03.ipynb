{
  "nbformat": 4,
  "nbformat_minor": 0,
  "metadata": {
    "anaconda-cloud": {},
    "kernelspec": {
      "display_name": "Python 3",
      "language": "python",
      "name": "python3"
    },
    "language_info": {
      "codemirror_mode": {
        "name": "ipython",
        "version": 3
      },
      "file_extension": ".py",
      "mimetype": "text/x-python",
      "name": "python",
      "nbconvert_exporter": "python",
      "pygments_lexer": "ipython3",
      "version": "3.6.1"
    },
    "colab": {
      "name": "ex03.ipynb",
      "provenance": []
    }
  },
  "cells": [
    {
      "cell_type": "code",
      "metadata": {
        "collapsed": true,
        "id": "zDb_bI4pzhoK"
      },
      "source": [
        "# Useful starting lines\n",
        "%matplotlib inline\n",
        "import numpy as np\n",
        "import matplotlib.pyplot as plt\n",
        "%load_ext autoreload\n",
        "%autoreload 2"
      ],
      "execution_count": 1,
      "outputs": []
    },
    {
      "cell_type": "markdown",
      "metadata": {
        "id": "A1VFPQvwzhoM"
      },
      "source": [
        "# 1 Least squares and linear basis functions models\n",
        "## 1.1 Least squares"
      ]
    },
    {
      "cell_type": "code",
      "metadata": {
        "collapsed": true,
        "id": "ZkkENfjXzhoN"
      },
      "source": [
        "def least_squares(y, tx):\n",
        "    \"\"\"calculate the least squares solution.\"\"\"\n",
        "    w = np.dot(np.dot(np.linalg.inv(np.dot(tx.T, tx)), tx.T), y)\n",
        "    return w\n",
        "\n",
        "def calculate_mse(y, tx, w):\n",
        "  error = y - np.dot(tx, w)\n",
        "  return np.dot(error.T, error) / (2*error.shape[0])\n"
      ],
      "execution_count": 36,
      "outputs": []
    },
    {
      "cell_type": "markdown",
      "metadata": {
        "id": "6l8Y413XzhoN"
      },
      "source": [
        "### Load the data\n",
        "Here we will reuse the dataset `height_weight_genders.csv` from previous exercise section to check the correctness of your implementation. Please compare it with your previous result."
      ]
    },
    {
      "cell_type": "code",
      "metadata": {
        "id": "hWqYXuZNzhoN"
      },
      "source": [
        "from helpers import *\n",
        "def test_your_least_squares():\n",
        "    height, weight, gender = load_data_from_ex02(sub_sample=False, add_outlier=False)\n",
        "    x, mean_x, std_x = standardize(height)\n",
        "    y, tx = build_model_data(x, weight)\n",
        "    # ***************************************************\n",
        "    # INSERT YOUR CODE HERE\n",
        "    # least square or grid search: TODO\n",
        "    # this code should compare the optimal weights obtained \n",
        "    # by least squares vs. grid search\n",
        "    # ***************************************************\n",
        "    w = least_squares(y, tx)\n",
        "    print(w)\n",
        "    print(calculate_mse(y, tx, w))\n",
        "\n",
        "\n",
        "    best_w = None\n",
        "    best_error = 1e9\n",
        "\n",
        "    for i in range(0, 100, 1):\n",
        "      for j in range(0, 100, 1):\n",
        "        w = np.array([i, j])\n",
        "        err = calculate_mse(y, tx, w)\n",
        "        if err < best_error:\n",
        "          best_error = err\n",
        "          best_w = w\n",
        "    print(best_w, best_error)"
      ],
      "execution_count": 5,
      "outputs": []
    },
    {
      "cell_type": "markdown",
      "metadata": {
        "id": "dl1EUUb1zhoO"
      },
      "source": [
        "Test it here"
      ]
    },
    {
      "cell_type": "code",
      "metadata": {
        "id": "noPsxDvVzhoO",
        "colab": {
          "base_uri": "https://localhost:8080/"
        },
        "outputId": "4eccb5c5-2d42-48a3-97ba-77a2c51345e5"
      },
      "source": [
        "test_your_least_squares()"
      ],
      "execution_count": 6,
      "outputs": [
        {
          "output_type": "stream",
          "name": "stdout",
          "text": [
            "[73.293922   13.47971243]\n",
            "30.771775737658796\n",
            "[73 13] 31.08828990126344\n"
          ]
        }
      ]
    },
    {
      "cell_type": "markdown",
      "metadata": {
        "id": "J43nJLBZzhoP"
      },
      "source": [
        "## 1.2 Least squares with a linear basis function model\n",
        "Start from this section, we will use the dataset `dataEx3.csv`.\n",
        "\n",
        "### Implement polynomial basis functions"
      ]
    },
    {
      "cell_type": "code",
      "metadata": {
        "scrolled": true,
        "id": "PRQ2TfXezhoQ",
        "colab": {
          "base_uri": "https://localhost:8080/"
        },
        "outputId": "857f1f4a-c96d-40f1-a0e5-07923f3f338c"
      },
      "source": [
        "# load dataset\n",
        "x, y = load_data()\n",
        "print(\"shape of x {}\".format(x.shape))\n",
        "print(\"shape of y {}\".format(y.shape))"
      ],
      "execution_count": 7,
      "outputs": [
        {
          "output_type": "stream",
          "name": "stdout",
          "text": [
            "shape of x (50,)\n",
            "shape of y (50,)\n"
          ]
        }
      ]
    },
    {
      "cell_type": "code",
      "metadata": {
        "collapsed": true,
        "id": "WlsYn2s5zhoQ"
      },
      "source": [
        "def build_poly(x, degree):\n",
        "    \"\"\"polynomial basis functions for input data x, for j=0 up to j=degree.\"\"\"\n",
        "    # ***************************************************\n",
        "    # INSERT YOUR CODE HERE\n",
        "    # polynomial basis function: TODO\n",
        "    # this function should return the matrix formed\n",
        "    # by applying the polynomial basis to the input data\n",
        "    # ***************************************************\n",
        "\n",
        "    x = np.reshape(x, (-1, 1))\n",
        "    return np.hstack([x**j for j in range (0, degree)])\n",
        "\n",
        "poly_x = build_poly(x, 3)\n"
      ],
      "execution_count": 8,
      "outputs": []
    },
    {
      "cell_type": "markdown",
      "metadata": {
        "id": "xO2Kp2H_zhoR"
      },
      "source": [
        "Let us play with polynomial regression. Note that we will use your implemented function `compute_mse`. Please copy and paste your implementation from exercise02."
      ]
    },
    {
      "cell_type": "code",
      "metadata": {
        "collapsed": true,
        "id": "jTrif1PwzhoR"
      },
      "source": [
        "from plots import *\n",
        "\n",
        "def polynomial_regression():\n",
        "    \"\"\"Constructing the polynomial basis function expansion of the data,\n",
        "       and then running least squares regression.\"\"\"\n",
        "    # define parameters\n",
        "    degrees = [1, 3, 7, 12]\n",
        "    \n",
        "    # define the structure of the figure\n",
        "    num_row = 2\n",
        "    num_col = 2\n",
        "    f, axs = plt.subplots(num_row, num_col)\n",
        "\n",
        "    for ind, degree in enumerate(degrees):\n",
        "        # ***************************************************\n",
        "        # INSERT YOUR CODE HERE\n",
        "        # form the data to do polynomial regression.: TODO\n",
        "        # ***************************************************\n",
        "        poly_x = build_poly(x, degree)\n",
        "        weights = least_squares(y, poly_x)\n",
        "        # ***************************************************\n",
        "        # INSERT YOUR CODE HERE\n",
        "        # least square and calculate RMSE: TODO\n",
        "        # ***************************************************\n",
        "        rmse = calculate_mse(y, poly_x, weights)\n",
        "        print(\"Processing {i}th experiment, degree={d}, rmse={loss}\".format(\n",
        "              i=ind + 1, d=degree, loss=rmse))\n",
        "        # plot fit\n",
        "        plot_fitted_curve(\n",
        "            y, x, weights, degree, axs[ind // num_col][ind % num_col])\n",
        "    plt.tight_layout()\n",
        "    plt.savefig(\"visualize_polynomial_regression\")\n",
        "    plt.show()"
      ],
      "execution_count": 10,
      "outputs": []
    },
    {
      "cell_type": "markdown",
      "metadata": {
        "id": "X5Tb5xCtzhoR"
      },
      "source": [
        "Run polynomial regression"
      ]
    },
    {
      "cell_type": "code",
      "metadata": {
        "id": "GKzUWX4PzhoS",
        "colab": {
          "base_uri": "https://localhost:8080/",
          "height": 365
        },
        "outputId": "c1d96ef3-3965-4006-eaf4-4b613fc31ce0"
      },
      "source": [
        "polynomial_regression()"
      ],
      "execution_count": 11,
      "outputs": [
        {
          "output_type": "stream",
          "name": "stdout",
          "text": [
            "Processing 1th experiment, degree=1, rmse=0.5010949203781333\n",
            "Processing 2th experiment, degree=3, rmse=0.21807215932854132\n",
            "Processing 3th experiment, degree=7, rmse=0.062349542032100295\n",
            "Processing 4th experiment, degree=12, rmse=0.06194920556375798\n"
          ]
        },
        {
          "output_type": "display_data",
          "data": {
            "image/png": "[encoded data removed]",
            "text/plain": [
              "<Figure size 432x288 with 4 Axes>"
            ]
          },
          "metadata": {
            "needs_background": "light"
          }
        }
      ]
    },
    {
      "cell_type": "markdown",
      "metadata": {
        "id": "NcSu39KQzhoS"
      },
      "source": [
        "# 2 Evaluating model predication performance\n",
        "\n",
        "\n",
        "Let us show the train and test splits for various polynomial degrees. First of all, please fill in the function `split_data()`"
      ]
    },
    {
      "cell_type": "code",
      "metadata": {
        "collapsed": true,
        "id": "gP5dXcBKzhoS"
      },
      "source": [
        "import math\n",
        "\n",
        "def split_data(x, y, ratio, seed=1):\n",
        "    \"\"\"\n",
        "    split the dataset based on the split ratio. If ratio is 0.8 \n",
        "    you will have 80% of your data set dedicated to training \n",
        "    and the rest dedicated to testing\n",
        "    \"\"\"\n",
        "    # set seed\n",
        "    np.random.seed(seed)\n",
        "    rand_permutation = np.random.permutation(x.shape[0])\n",
        "    shuffled_x = x[rand_permutation]\n",
        "    shuffled_y = y[rand_permutation]\n",
        "\n",
        "    train_size = math.floor(x.shape[0] * ratio)\n",
        "    x_train = shuffled_x[:train_size]\n",
        "    x_validate = shuffled_x[train_size:]\n",
        "    y_train = shuffled_y[:train_size]\n",
        "    y_validate = shuffled_y[train_size:]\n",
        "\n",
        "    return x_train, x_validate, y_train, y_validate"
      ],
      "execution_count": 12,
      "outputs": []
    },
    {
      "cell_type": "markdown",
      "metadata": {
        "id": "-ouf2ZmGzhoS"
      },
      "source": [
        "Then, test your `split_data` function below."
      ]
    },
    {
      "cell_type": "code",
      "metadata": {
        "collapsed": true,
        "id": "LZX-i6MkzhoS"
      },
      "source": [
        "def train_test_split_demo(x, y, degree, ratio, seed):\n",
        "    \"\"\"polynomial regression with different split ratios and different degrees.\"\"\"\n",
        "    # ***************************************************\n",
        "    # INSERT YOUR CODE HERE\n",
        "    # split the data, and return train and test data: TODO\n",
        "    # ***************************************************\n",
        "    x_train, x_validate, y_train, y_validate = split_data(x, y, ratio)\n",
        "    # ***************************************************\n",
        "    # INSERT YOUR CODE HERE\n",
        "    # form train and test data with polynomial basis function: TODO\n",
        "    # ***************************************************\n",
        "    x_train_poly = build_poly(x_train, degree)\n",
        "    x_validate_poly = build_poly(x_validate, degree)\n",
        "    # ***************************************************\n",
        "    # INSERT YOUR CODE HERE\n",
        "    # calculate weight through least square: TODO\n",
        "    # ***************************************************\n",
        "    weights = least_squares(y_train, x_train_poly)\n",
        "    # ***************************************************\n",
        "    # INSERT YOUR CODE HERE\n",
        "    # calculate RMSE for train and test data,\n",
        "    # and store them in rmse_tr and rmse_te respectively: TODO\n",
        "    # ***************************************************\n",
        "    rmse_tr = calculate_mse(y_train, x_train_poly, weights)\n",
        "    rmse_te = calculate_mse(y_validate, x_validate_poly, weights)\n",
        "    print(\"proportion={p}, degree={d}, Training RMSE={tr:.3f}, Testing RMSE={te:.3f}\".format(\n",
        "          p=ratio, d=degree, tr=rmse_tr, te=rmse_te))\n"
      ],
      "execution_count": 17,
      "outputs": []
    },
    {
      "cell_type": "code",
      "metadata": {
        "collapsed": true,
        "id": "eeRIJ-j1zhoT",
        "outputId": "333b6f2a-885e-4f5b-c5c2-8afa0017e2d5",
        "colab": {
          "base_uri": "https://localhost:8080/"
        }
      },
      "source": [
        "seed = 6\n",
        "degrees = [1, 3, 7, 12]\n",
        "split_ratios = [0.9, 0.5, 0.1]\n",
        "\n",
        "for split_ratio in split_ratios:\n",
        "    for degree in degrees:\n",
        "        train_test_split_demo(x, y, degree, split_ratio, seed)"
      ],
      "execution_count": 18,
      "outputs": [
        {
          "output_type": "stream",
          "name": "stdout",
          "text": [
            "proportion=0.9, degree=1, Training RMSE=0.514, Testing RMSE=0.388\n",
            "proportion=0.9, degree=3, Training RMSE=0.206, Testing RMSE=0.362\n",
            "proportion=0.9, degree=7, Training RMSE=0.066, Testing RMSE=0.034\n",
            "proportion=0.9, degree=12, Training RMSE=0.067, Testing RMSE=0.088\n",
            "proportion=0.5, degree=1, Training RMSE=0.466, Testing RMSE=0.568\n",
            "proportion=0.5, degree=3, Training RMSE=0.157, Testing RMSE=0.329\n",
            "proportion=0.5, degree=7, Training RMSE=0.050, Testing RMSE=0.112\n",
            "proportion=0.5, degree=12, Training RMSE=0.071, Testing RMSE=0.298\n",
            "proportion=0.1, degree=1, Training RMSE=0.833, Testing RMSE=0.471\n",
            "proportion=0.1, degree=3, Training RMSE=0.052, Testing RMSE=3.236\n",
            "proportion=0.1, degree=7, Training RMSE=0.244, Testing RMSE=19.647\n",
            "proportion=0.1, degree=12, Training RMSE=17.119, Testing RMSE=6052.764\n"
          ]
        }
      ]
    },
    {
      "cell_type": "markdown",
      "metadata": {
        "id": "tGxkHeFtzhoT"
      },
      "source": [
        "# 3 Ridge Regression\n",
        "Please fill in the function below."
      ]
    },
    {
      "cell_type": "code",
      "metadata": {
        "collapsed": true,
        "id": "rad5z5N5zhoT"
      },
      "source": [
        "def ridge_regression(y, tx, lambda_):\n",
        "    \"\"\"implement ridge regression.\"\"\"\n",
        "    # ***************************************************\n",
        "    # INSERT YOUR CODE HERE\n",
        "    # ridge regression: TODO\n",
        "    # ***************************************************\n",
        "    lambda_pron = 2 * y.shape[0] * lambda_\n",
        "    weights = np.dot(np.linalg.inv(np.dot(tx.T, tx) + lambda_pron * np.identity(tx.shape[1])), np.dot(tx.T, y))\n",
        "\n",
        "    return weights"
      ],
      "execution_count": 37,
      "outputs": []
    },
    {
      "cell_type": "code",
      "metadata": {
        "collapsed": true,
        "id": "tkZSERdgzhoT"
      },
      "source": [
        "def ridge_regression_demo(x, y, degree, ratio, seed):\n",
        "    \"\"\"ridge regression demo.\"\"\"\n",
        "    # define parameter\n",
        "    lambdas = np.logspace(-5, 0, 15)\n",
        "    # ***************************************************\n",
        "    # INSERT YOUR CODE HERE\n",
        "    # split the data, and return train and test data: TODO\n",
        "    # ***************************************************\n",
        "    x_train, x_test, y_train, y_test = split_data(x, y, ratio, seed)\n",
        "    # ***************************************************\n",
        "    # INSERT YOUR CODE HERE\n",
        "    # form train and test data with polynomial basis function: TODO\n",
        "    # ***************************************************\n",
        "    x_train_poly = build_poly(x_train, degree)\n",
        "    x_test_poly = build_poly(x_test, degree)\n",
        "\n",
        "    rmse_tr = []\n",
        "    rmse_te = []\n",
        "    for ind, lambda_ in enumerate(lambdas):\n",
        "        # ***************************************************\n",
        "        # INSERT YOUR CODE HERE\n",
        "        # ridge regression with a given lambda\n",
        "        # ***************************************************\n",
        "        weights = ridge_regression(y_train, x_train_poly, lambda_)\n",
        "        train_error = calculate_mse(y_train, x_train_poly, weights)\n",
        "        validate_error = calculate_mse(y_test, x_test_poly, weights)\n",
        "        rmse_tr.append(train_error)\n",
        "        rmse_te.append(validate_error)\n",
        "        print(\"proportion={p}, degree={d}, lambda={l:.3f}, Training RMSE={tr:.3f}, Testing RMSE={te:.3f}\".format(\n",
        "               p=ratio, d=degree, l=lambda_, tr=rmse_tr[ind], te=rmse_te[ind]))\n",
        "        \n",
        "    # Plot the obtained results\n",
        "    plot_train_test(rmse_tr, rmse_te, lambdas, degree)\n",
        "\n"
      ],
      "execution_count": 41,
      "outputs": []
    },
    {
      "cell_type": "code",
      "metadata": {
        "collapsed": true,
        "id": "p9DcahKdzhoT",
        "outputId": "12964f44-fe0c-4981-a27f-4b98e45175da",
        "colab": {
          "base_uri": "https://localhost:8080/",
          "height": 554
        }
      },
      "source": [
        "seed = 56\n",
        "degree = 7\n",
        "split_ratio = 0.5\n",
        "ridge_regression_demo(x, y, degree, split_ratio, seed)"
      ],
      "execution_count": 42,
      "outputs": [
        {
          "output_type": "stream",
          "name": "stdout",
          "text": [
            "proportion=0.5, degree=7, lambda=0.000, Training RMSE=0.026, Testing RMSE=0.056\n",
            "proportion=0.5, degree=7, lambda=0.000, Training RMSE=0.026, Testing RMSE=0.055\n",
            "proportion=0.5, degree=7, lambda=0.000, Training RMSE=0.026, Testing RMSE=0.055\n",
            "proportion=0.5, degree=7, lambda=0.000, Training RMSE=0.026, Testing RMSE=0.055\n",
            "proportion=0.5, degree=7, lambda=0.000, Training RMSE=0.026, Testing RMSE=0.055\n",
            "proportion=0.5, degree=7, lambda=0.001, Training RMSE=0.026, Testing RMSE=0.056\n",
            "proportion=0.5, degree=7, lambda=0.001, Training RMSE=0.026, Testing RMSE=0.055\n",
            "proportion=0.5, degree=7, lambda=0.003, Training RMSE=0.026, Testing RMSE=0.054\n",
            "proportion=0.5, degree=7, lambda=0.007, Training RMSE=0.027, Testing RMSE=0.049\n",
            "proportion=0.5, degree=7, lambda=0.016, Training RMSE=0.029, Testing RMSE=0.043\n",
            "proportion=0.5, degree=7, lambda=0.037, Training RMSE=0.032, Testing RMSE=0.042\n",
            "proportion=0.5, degree=7, lambda=0.085, Training RMSE=0.037, Testing RMSE=0.048\n",
            "proportion=0.5, degree=7, lambda=0.193, Training RMSE=0.043, Testing RMSE=0.061\n",
            "proportion=0.5, degree=7, lambda=0.439, Training RMSE=0.049, Testing RMSE=0.079\n",
            "proportion=0.5, degree=7, lambda=1.000, Training RMSE=0.057, Testing RMSE=0.101\n"
          ]
        },
        {
          "output_type": "display_data",
          "data": {
            "image/png": "[encoded data removed]",
            "text/plain": [
              "<Figure size 432x288 with 1 Axes>"
            ]
          },
          "metadata": {
            "needs_background": "light"
          }
        }
      ]
    }
  ]
}