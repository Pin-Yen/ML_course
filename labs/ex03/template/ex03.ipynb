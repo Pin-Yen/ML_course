{
  "nbformat": 4,
  "nbformat_minor": 0,
  "metadata": {
    "anaconda-cloud": {},
    "kernelspec": {
      "display_name": "Python 3",
      "language": "python",
      "name": "python3"
    },
    "language_info": {
      "codemirror_mode": {
        "name": "ipython",
        "version": 3
      },
      "file_extension": ".py",
      "mimetype": "text/x-python",
      "name": "python",
      "nbconvert_exporter": "python",
      "pygments_lexer": "ipython3",
      "version": "3.6.1"
    },
    "colab": {
      "name": "ex03.ipynb",
      "provenance": []
    }
  },
  "cells": [
    {
      "cell_type": "code",
      "metadata": {
        "collapsed": true,
        "id": "zDb_bI4pzhoK"
      },
      "source": [
        "# Useful starting lines\n",
        "%matplotlib inline\n",
        "import numpy as np\n",
        "import matplotlib.pyplot as plt\n",
        "%load_ext autoreload\n",
        "%autoreload 2"
      ],
      "execution_count": 1,
      "outputs": []
    },
    {
      "cell_type": "markdown",
      "metadata": {
        "id": "A1VFPQvwzhoM"
      },
      "source": [
        "# 1 Least squares and linear basis functions models\n",
        "## 1.1 Least squares"
      ]
    },
    {
      "cell_type": "code",
      "metadata": {
        "collapsed": true,
        "id": "ZkkENfjXzhoN"
      },
      "source": [
        "def least_squares(y, tx):\n",
        "    \"\"\"calculate the least squares solution.\"\"\"\n",
        "    w = np.dot(np.dot(np.linalg.inv(np.dot(tx.T, tx)), tx.T), y)\n",
        "    return w\n",
        "\n",
        "def calculate_mse(y, tx, w):\n",
        "  error = y - np.dot(tx, w)\n",
        "  return np.dot(error.T, error) / error.shape[0]\n"
      ],
      "execution_count": 15,
      "outputs": []
    },
    {
      "cell_type": "markdown",
      "metadata": {
        "id": "6l8Y413XzhoN"
      },
      "source": [
        "### Load the data\n",
        "Here we will reuse the dataset `height_weight_genders.csv` from previous exercise section to check the correctness of your implementation. Please compare it with your previous result."
      ]
    },
    {
      "cell_type": "code",
      "metadata": {
        "id": "hWqYXuZNzhoN"
      },
      "source": [
        "from helpers import *\n",
        "def test_your_least_squares():\n",
        "    height, weight, gender = load_data_from_ex02(sub_sample=False, add_outlier=False)\n",
        "    x, mean_x, std_x = standardize(height)\n",
        "    y, tx = build_model_data(x, weight)\n",
        "    # ***************************************************\n",
        "    # INSERT YOUR CODE HERE\n",
        "    # least square or grid search: TODO\n",
        "    # this code should compare the optimal weights obtained \n",
        "    # by least squares vs. grid search\n",
        "    # ***************************************************\n",
        "    w = least_squares(y, tx)\n",
        "    print(w)\n",
        "    print(calculate_mse(y, tx, w))\n",
        "\n",
        "\n",
        "    best_w = None\n",
        "    best_error = 1e9\n",
        "\n",
        "    for i in range(0, 100, 1):\n",
        "      for j in range(0, 100, 1):\n",
        "        w = np.array([i, j])\n",
        "        err = mse(y, tx, w)\n",
        "        if err < best_error:\n",
        "          best_error = err\n",
        "          best_w = w\n",
        "    print(best_w, best_error)"
      ],
      "execution_count": 4,
      "outputs": []
    },
    {
      "cell_type": "markdown",
      "metadata": {
        "id": "dl1EUUb1zhoO"
      },
      "source": [
        "Test it here"
      ]
    },
    {
      "cell_type": "code",
      "metadata": {
        "id": "noPsxDvVzhoO",
        "colab": {
          "base_uri": "https://localhost:8080/",
          "height": 307
        },
        "outputId": "451aa862-7542-4bba-da02-063a68f13f1c"
      },
      "source": [
        "test_your_least_squares()"
      ],
      "execution_count": 5,
      "outputs": [
        {
          "output_type": "error",
          "ename": "OSError",
          "evalue": "ignored",
          "traceback": [
            "\u001b[0;31m---------------------------------------------------------------------------\u001b[0m",
            "\u001b[0;31mOSError\u001b[0m                                   Traceback (most recent call last)",
            "\u001b[0;32m<ipython-input-5-5c8178f582a6>\u001b[0m in \u001b[0;36m<module>\u001b[0;34m()\u001b[0m\n\u001b[0;32m----> 1\u001b[0;31m \u001b[0mtest_your_least_squares\u001b[0m\u001b[0;34m(\u001b[0m\u001b[0;34m)\u001b[0m\u001b[0;34m\u001b[0m\u001b[0;34m\u001b[0m\u001b[0m\n\u001b[0m",
            "\u001b[0;32m<ipython-input-4-ced7208259e8>\u001b[0m in \u001b[0;36mtest_your_least_squares\u001b[0;34m()\u001b[0m\n\u001b[1;32m      1\u001b[0m \u001b[0;32mfrom\u001b[0m \u001b[0mhelpers\u001b[0m \u001b[0;32mimport\u001b[0m \u001b[0;34m*\u001b[0m\u001b[0;34m\u001b[0m\u001b[0;34m\u001b[0m\u001b[0m\n\u001b[1;32m      2\u001b[0m \u001b[0;32mdef\u001b[0m \u001b[0mtest_your_least_squares\u001b[0m\u001b[0;34m(\u001b[0m\u001b[0;34m)\u001b[0m\u001b[0;34m:\u001b[0m\u001b[0;34m\u001b[0m\u001b[0;34m\u001b[0m\u001b[0m\n\u001b[0;32m----> 3\u001b[0;31m     \u001b[0mheight\u001b[0m\u001b[0;34m,\u001b[0m \u001b[0mweight\u001b[0m\u001b[0;34m,\u001b[0m \u001b[0mgender\u001b[0m \u001b[0;34m=\u001b[0m \u001b[0mload_data_from_ex02\u001b[0m\u001b[0;34m(\u001b[0m\u001b[0msub_sample\u001b[0m\u001b[0;34m=\u001b[0m\u001b[0;32mFalse\u001b[0m\u001b[0;34m,\u001b[0m \u001b[0madd_outlier\u001b[0m\u001b[0;34m=\u001b[0m\u001b[0;32mFalse\u001b[0m\u001b[0;34m)\u001b[0m\u001b[0;34m\u001b[0m\u001b[0;34m\u001b[0m\u001b[0m\n\u001b[0m\u001b[1;32m      4\u001b[0m     \u001b[0mx\u001b[0m\u001b[0;34m,\u001b[0m \u001b[0mmean_x\u001b[0m\u001b[0;34m,\u001b[0m \u001b[0mstd_x\u001b[0m \u001b[0;34m=\u001b[0m \u001b[0mstandardize\u001b[0m\u001b[0;34m(\u001b[0m\u001b[0mheight\u001b[0m\u001b[0;34m)\u001b[0m\u001b[0;34m\u001b[0m\u001b[0;34m\u001b[0m\u001b[0m\n\u001b[1;32m      5\u001b[0m     \u001b[0my\u001b[0m\u001b[0;34m,\u001b[0m \u001b[0mtx\u001b[0m \u001b[0;34m=\u001b[0m \u001b[0mbuild_model_data\u001b[0m\u001b[0;34m(\u001b[0m\u001b[0mx\u001b[0m\u001b[0;34m,\u001b[0m \u001b[0mweight\u001b[0m\u001b[0;34m)\u001b[0m\u001b[0;34m\u001b[0m\u001b[0;34m\u001b[0m\u001b[0m\n",
            "\u001b[0;32m/content/helpers.py\u001b[0m in \u001b[0;36mload_data_from_ex02\u001b[0;34m(sub_sample, add_outlier)\u001b[0m\n\u001b[1;32m     17\u001b[0m     \u001b[0mpath_dataset\u001b[0m \u001b[0;34m=\u001b[0m \u001b[0;34m\"height_weight_genders.csv\"\u001b[0m\u001b[0;34m\u001b[0m\u001b[0;34m\u001b[0m\u001b[0m\n\u001b[1;32m     18\u001b[0m     data = np.genfromtxt(\n\u001b[0;32m---> 19\u001b[0;31m         path_dataset, delimiter=\",\", skip_header=1, usecols=[1, 2])\n\u001b[0m\u001b[1;32m     20\u001b[0m     \u001b[0mheight\u001b[0m \u001b[0;34m=\u001b[0m \u001b[0mdata\u001b[0m\u001b[0;34m[\u001b[0m\u001b[0;34m:\u001b[0m\u001b[0;34m,\u001b[0m \u001b[0;36m0\u001b[0m\u001b[0;34m]\u001b[0m\u001b[0;34m\u001b[0m\u001b[0;34m\u001b[0m\u001b[0m\n\u001b[1;32m     21\u001b[0m     \u001b[0mweight\u001b[0m \u001b[0;34m=\u001b[0m \u001b[0mdata\u001b[0m\u001b[0;34m[\u001b[0m\u001b[0;34m:\u001b[0m\u001b[0;34m,\u001b[0m \u001b[0;36m1\u001b[0m\u001b[0;34m]\u001b[0m\u001b[0;34m\u001b[0m\u001b[0;34m\u001b[0m\u001b[0m\n",
            "\u001b[0;32m/usr/local/lib/python3.7/dist-packages/numpy/lib/npyio.py\u001b[0m in \u001b[0;36mgenfromtxt\u001b[0;34m(fname, dtype, comments, delimiter, skip_header, skip_footer, converters, missing_values, filling_values, usecols, names, excludelist, deletechars, replace_space, autostrip, case_sensitive, defaultfmt, unpack, usemask, loose, invalid_raise, max_rows, encoding)\u001b[0m\n\u001b[1;32m   1747\u001b[0m             \u001b[0mfname\u001b[0m \u001b[0;34m=\u001b[0m \u001b[0mos_fspath\u001b[0m\u001b[0;34m(\u001b[0m\u001b[0mfname\u001b[0m\u001b[0;34m)\u001b[0m\u001b[0;34m\u001b[0m\u001b[0;34m\u001b[0m\u001b[0m\n\u001b[1;32m   1748\u001b[0m         \u001b[0;32mif\u001b[0m \u001b[0misinstance\u001b[0m\u001b[0;34m(\u001b[0m\u001b[0mfname\u001b[0m\u001b[0;34m,\u001b[0m \u001b[0mstr\u001b[0m\u001b[0;34m)\u001b[0m\u001b[0;34m:\u001b[0m\u001b[0;34m\u001b[0m\u001b[0;34m\u001b[0m\u001b[0m\n\u001b[0;32m-> 1749\u001b[0;31m             \u001b[0mfid\u001b[0m \u001b[0;34m=\u001b[0m \u001b[0mnp\u001b[0m\u001b[0;34m.\u001b[0m\u001b[0mlib\u001b[0m\u001b[0;34m.\u001b[0m\u001b[0m_datasource\u001b[0m\u001b[0;34m.\u001b[0m\u001b[0mopen\u001b[0m\u001b[0;34m(\u001b[0m\u001b[0mfname\u001b[0m\u001b[0;34m,\u001b[0m \u001b[0;34m'rt'\u001b[0m\u001b[0;34m,\u001b[0m \u001b[0mencoding\u001b[0m\u001b[0;34m=\u001b[0m\u001b[0mencoding\u001b[0m\u001b[0;34m)\u001b[0m\u001b[0;34m\u001b[0m\u001b[0;34m\u001b[0m\u001b[0m\n\u001b[0m\u001b[1;32m   1750\u001b[0m             \u001b[0mfid_ctx\u001b[0m \u001b[0;34m=\u001b[0m \u001b[0mcontextlib\u001b[0m\u001b[0;34m.\u001b[0m\u001b[0mclosing\u001b[0m\u001b[0;34m(\u001b[0m\u001b[0mfid\u001b[0m\u001b[0;34m)\u001b[0m\u001b[0;34m\u001b[0m\u001b[0;34m\u001b[0m\u001b[0m\n\u001b[1;32m   1751\u001b[0m         \u001b[0;32melse\u001b[0m\u001b[0;34m:\u001b[0m\u001b[0;34m\u001b[0m\u001b[0;34m\u001b[0m\u001b[0m\n",
            "\u001b[0;32m/usr/local/lib/python3.7/dist-packages/numpy/lib/_datasource.py\u001b[0m in \u001b[0;36mopen\u001b[0;34m(path, mode, destpath, encoding, newline)\u001b[0m\n\u001b[1;32m    193\u001b[0m \u001b[0;34m\u001b[0m\u001b[0m\n\u001b[1;32m    194\u001b[0m     \u001b[0mds\u001b[0m \u001b[0;34m=\u001b[0m \u001b[0mDataSource\u001b[0m\u001b[0;34m(\u001b[0m\u001b[0mdestpath\u001b[0m\u001b[0;34m)\u001b[0m\u001b[0;34m\u001b[0m\u001b[0;34m\u001b[0m\u001b[0m\n\u001b[0;32m--> 195\u001b[0;31m     \u001b[0;32mreturn\u001b[0m \u001b[0mds\u001b[0m\u001b[0;34m.\u001b[0m\u001b[0mopen\u001b[0m\u001b[0;34m(\u001b[0m\u001b[0mpath\u001b[0m\u001b[0;34m,\u001b[0m \u001b[0mmode\u001b[0m\u001b[0;34m,\u001b[0m \u001b[0mencoding\u001b[0m\u001b[0;34m=\u001b[0m\u001b[0mencoding\u001b[0m\u001b[0;34m,\u001b[0m \u001b[0mnewline\u001b[0m\u001b[0;34m=\u001b[0m\u001b[0mnewline\u001b[0m\u001b[0;34m)\u001b[0m\u001b[0;34m\u001b[0m\u001b[0;34m\u001b[0m\u001b[0m\n\u001b[0m\u001b[1;32m    196\u001b[0m \u001b[0;34m\u001b[0m\u001b[0m\n\u001b[1;32m    197\u001b[0m \u001b[0;34m\u001b[0m\u001b[0m\n",
            "\u001b[0;32m/usr/local/lib/python3.7/dist-packages/numpy/lib/_datasource.py\u001b[0m in \u001b[0;36mopen\u001b[0;34m(self, path, mode, encoding, newline)\u001b[0m\n\u001b[1;32m    533\u001b[0m                                       encoding=encoding, newline=newline)\n\u001b[1;32m    534\u001b[0m         \u001b[0;32melse\u001b[0m\u001b[0;34m:\u001b[0m\u001b[0;34m\u001b[0m\u001b[0;34m\u001b[0m\u001b[0m\n\u001b[0;32m--> 535\u001b[0;31m             \u001b[0;32mraise\u001b[0m \u001b[0mIOError\u001b[0m\u001b[0;34m(\u001b[0m\u001b[0;34m\"%s not found.\"\u001b[0m \u001b[0;34m%\u001b[0m \u001b[0mpath\u001b[0m\u001b[0;34m)\u001b[0m\u001b[0;34m\u001b[0m\u001b[0;34m\u001b[0m\u001b[0m\n\u001b[0m\u001b[1;32m    536\u001b[0m \u001b[0;34m\u001b[0m\u001b[0m\n\u001b[1;32m    537\u001b[0m \u001b[0;34m\u001b[0m\u001b[0m\n",
            "\u001b[0;31mOSError\u001b[0m: height_weight_genders.csv not found."
          ]
        }
      ]
    },
    {
      "cell_type": "markdown",
      "metadata": {
        "id": "J43nJLBZzhoP"
      },
      "source": [
        "## 1.2 Least squares with a linear basis function model\n",
        "Start from this section, we will use the dataset `dataEx3.csv`.\n",
        "\n",
        "### Implement polynomial basis functions"
      ]
    },
    {
      "cell_type": "code",
      "metadata": {
        "scrolled": true,
        "id": "PRQ2TfXezhoQ",
        "outputId": "56251909-3ae5-4c42-a41a-851a55b20b0b",
        "colab": {
          "base_uri": "https://localhost:8080/"
        }
      },
      "source": [
        "# load dataset\n",
        "x, y = load_data()\n",
        "print(\"shape of x {}\".format(x.shape))\n",
        "print(\"shape of y {}\".format(y.shape))"
      ],
      "execution_count": 6,
      "outputs": [
        {
          "output_type": "stream",
          "name": "stdout",
          "text": [
            "shape of x (50,)\n",
            "shape of y (50,)\n"
          ]
        }
      ]
    },
    {
      "cell_type": "code",
      "metadata": {
        "collapsed": true,
        "id": "WlsYn2s5zhoQ",
        "outputId": "39236658-5d05-4b52-cb38-c154a9897448",
        "colab": {
          "base_uri": "https://localhost:8080/"
        }
      },
      "source": [
        "def build_poly(x, degree):\n",
        "    \"\"\"polynomial basis functions for input data x, for j=0 up to j=degree.\"\"\"\n",
        "    # ***************************************************\n",
        "    # INSERT YOUR CODE HERE\n",
        "    # polynomial basis function: TODO\n",
        "    # this function should return the matrix formed\n",
        "    # by applying the polynomial basis to the input data\n",
        "    # ***************************************************\n",
        "\n",
        "    x = np.reshape(x, (-1, 1))\n",
        "    return np.hstack([x**j for j in range (0, degree)])\n",
        "\n",
        "poly_x = build_poly(x, 3)\n"
      ],
      "execution_count": 25,
      "outputs": [
        {
          "output_type": "stream",
          "name": "stdout",
          "text": [
            "(50, 3)\n",
            "[[1.00000000e+00 3.52374910e-01 1.24168077e-01]\n",
            " [1.00000000e+00 4.89512330e+00 2.39622321e+01]\n",
            " [1.00000000e+00 1.86662437e+00 3.48428655e+00]\n",
            " [1.00000000e+00 3.50706129e+00 1.22994789e+01]\n",
            " [1.00000000e+00 3.38087384e+00 1.14303079e+01]\n",
            " [1.00000000e+00 7.30937276e-01 5.34269301e-01]\n",
            " [1.00000000e+00 3.88562366e+00 1.50980712e+01]\n",
            " [1.00000000e+00 5.65224803e+00 3.19479078e+01]\n",
            " [1.00000000e+00 6.28318531e+00 3.94784176e+01]\n",
            " [1.00000000e+00 2.37137419e+00 5.62341557e+00]\n",
            " [1.00000000e+00 6.04749821e-01 3.65722346e-01]\n",
            " [1.00000000e+00 3.63324875e+00 1.32004965e+01]\n",
            " [1.00000000e+00 8.57124731e-01 7.34662804e-01]\n",
            " [1.00000000e+00 2.49756165e+00 6.23781420e+00]\n",
            " [1.00000000e+00 1.61424946e+00 2.60580133e+00]\n",
            " [1.00000000e+00 5.39987312e+00 2.91586297e+01]\n",
            " [1.00000000e+00 6.15699785e+00 3.79086225e+01]\n",
            " [1.00000000e+00 6.03081040e+00 3.63706740e+01]\n",
            " [1.00000000e+00 4.78562366e-01 2.29021938e-01]\n",
            " [1.00000000e+00 2.87612401e+00 8.27208935e+00]\n",
            " [1.00000000e+00 4.51656093e+00 2.03993227e+01]\n",
            " [1.00000000e+00 9.83312187e-01 9.66902857e-01]\n",
            " [1.00000000e+00 1.10949964e+00 1.23098946e+00]\n",
            " [1.00000000e+00 1.00000000e-01 1.00000000e-02]\n",
            " [1.00000000e+00 2.11899928e+00 4.49015797e+00]\n",
            " [1.00000000e+00 1.36187455e+00 1.85470230e+00]\n",
            " [1.00000000e+00 4.01181111e+00 1.60946284e+01]\n",
            " [1.00000000e+00 5.77843549e+00 3.33903167e+01]\n",
            " [1.00000000e+00 4.26418602e+00 1.81832824e+01]\n",
            " [1.00000000e+00 1.23568710e+00 1.52692260e+00]\n",
            " [1.00000000e+00 2.24518674e+00 5.04086349e+00]\n",
            " [1.00000000e+00 1.99281183e+00 3.97129899e+00]\n",
            " [1.00000000e+00 1.48806201e+00 2.21432854e+00]\n",
            " [1.00000000e+00 4.64274839e+00 2.15551126e+01]\n",
            " [1.00000000e+00 4.39037348e+00 1.92753793e+01]\n",
            " [1.00000000e+00 3.00231147e+00 9.01387417e+00]\n",
            " [1.00000000e+00 2.26187455e-01 5.11607648e-02]\n",
            " [1.00000000e+00 5.27368567e+00 2.78117605e+01]\n",
            " [1.00000000e+00 5.02131076e+00 2.52135617e+01]\n",
            " [1.00000000e+00 5.52606058e+00 3.05373455e+01]\n",
            " [1.00000000e+00 2.62374910e+00 6.88405937e+00]\n",
            " [1.00000000e+00 4.76893584e+00 2.27427491e+01]\n",
            " [1.00000000e+00 3.12849893e+00 9.78750553e+00]\n",
            " [1.00000000e+00 1.74043692e+00 3.02912067e+00]\n",
            " [1.00000000e+00 3.75943620e+00 1.41333606e+01]\n",
            " [1.00000000e+00 3.25468638e+00 1.05929834e+01]\n",
            " [1.00000000e+00 5.90462294e+00 3.48645721e+01]\n",
            " [1.00000000e+00 4.13799857e+00 1.71230321e+01]\n",
            " [1.00000000e+00 2.74993656e+00 7.56215108e+00]\n",
            " [1.00000000e+00 5.14749821e+00 2.64967378e+01]]\n"
          ]
        }
      ]
    },
    {
      "cell_type": "markdown",
      "metadata": {
        "id": "xO2Kp2H_zhoR"
      },
      "source": [
        "Let us play with polynomial regression. Note that we will use your implemented function `compute_mse`. Please copy and paste your implementation from exercise02."
      ]
    },
    {
      "cell_type": "code",
      "metadata": {
        "collapsed": true,
        "id": "jTrif1PwzhoR"
      },
      "source": [
        "from plots import *\n",
        "\n",
        "def polynomial_regression():\n",
        "    \"\"\"Constructing the polynomial basis function expansion of the data,\n",
        "       and then running least squares regression.\"\"\"\n",
        "    # define parameters\n",
        "    degrees = [1, 3, 7, 12]\n",
        "    \n",
        "    # define the structure of the figure\n",
        "    num_row = 2\n",
        "    num_col = 2\n",
        "    f, axs = plt.subplots(num_row, num_col)\n",
        "\n",
        "    for ind, degree in enumerate(degrees):\n",
        "        # ***************************************************\n",
        "        # INSERT YOUR CODE HERE\n",
        "        # form the data to do polynomial regression.: TODO\n",
        "        # ***************************************************\n",
        "        poly_x = build_poly(x, degree)\n",
        "        weights = least_squares(y, poly_x)\n",
        "        # ***************************************************\n",
        "        # INSERT YOUR CODE HERE\n",
        "        # least square and calculate RMSE: TODO\n",
        "        # ***************************************************\n",
        "        rmse = calculate_mse(y, poly_x, weights)\n",
        "        print(\"Processing {i}th experiment, degree={d}, rmse={loss}\".format(\n",
        "              i=ind + 1, d=degree, loss=rmse))\n",
        "        # plot fit\n",
        "        plot_fitted_curve(\n",
        "            y, x, weights, degree, axs[ind // num_col][ind % num_col])\n",
        "    plt.tight_layout()\n",
        "    plt.savefig(\"visualize_polynomial_regression\")\n",
        "    plt.show()"
      ],
      "execution_count": 30,
      "outputs": []
    },
    {
      "cell_type": "markdown",
      "metadata": {
        "id": "X5Tb5xCtzhoR"
      },
      "source": [
        "Run polynomial regression"
      ]
    },
    {
      "cell_type": "code",
      "metadata": {
        "id": "GKzUWX4PzhoS",
        "outputId": "0d725559-d4a8-4c16-c95b-138379faa133",
        "colab": {
          "base_uri": "https://localhost:8080/",
          "height": 365
        }
      },
      "source": [
        "polynomial_regression()"
      ],
      "execution_count": 31,
      "outputs": [
        {
          "output_type": "stream",
          "name": "stdout",
          "text": [
            "Processing 1th experiment, degree=1, rmse=0.5010949203781333\n",
            "Processing 2th experiment, degree=3, rmse=0.21807215932854132\n",
            "Processing 3th experiment, degree=7, rmse=0.062349542032100295\n",
            "Processing 4th experiment, degree=12, rmse=0.06194920556375798\n"
          ]
        },
        {
          "output_type": "display_data",
          "data": {
            "image/png": "[encoded data removed]",
            "text/plain": [
              "<Figure size 432x288 with 4 Axes>"
            ]
          },
          "metadata": {
            "needs_background": "light"
          }
        }
      ]
    },
    {
      "cell_type": "markdown",
      "metadata": {
        "id": "NcSu39KQzhoS"
      },
      "source": [
        "# 2 Evaluating model predication performance\n",
        "\n",
        "\n",
        "Let us show the train and test splits for various polynomial degrees. First of all, please fill in the function `split_data()`"
      ]
    },
    {
      "cell_type": "code",
      "metadata": {
        "collapsed": true,
        "id": "gP5dXcBKzhoS"
      },
      "source": [
        "import math\n",
        "\n",
        "def split_data(x, y, ratio, seed=1):\n",
        "    \"\"\"\n",
        "    split the dataset based on the split ratio. If ratio is 0.8 \n",
        "    you will have 80% of your data set dedicated to training \n",
        "    and the rest dedicated to testing\n",
        "    \"\"\"\n",
        "    # set seed\n",
        "    np.random.seed(seed)\n",
        "    rand_permutation = np.random.permutation(x.shape[0])\n",
        "    shuffled_x = x[rand_permutation]\n",
        "    shuffled_y = y[rand_permutation]\n",
        "\n",
        "    train_size = math.floor(x.shape[0] * ratio)\n",
        "    x_train = shuffled_x[:train_size]\n",
        "    x_validate = shuffled_x[train_size:]\n",
        "    y_train = shuffled_y[:train_size]\n",
        "    y_validate = shuffled_y[train_size:]\n",
        "\n",
        "    return x_train, x_validate, y_train, y_validate"
      ],
      "execution_count": null,
      "outputs": []
    },
    {
      "cell_type": "markdown",
      "metadata": {
        "id": "-ouf2ZmGzhoS"
      },
      "source": [
        "Then, test your `split_data` function below."
      ]
    },
    {
      "cell_type": "code",
      "metadata": {
        "collapsed": true,
        "id": "LZX-i6MkzhoS"
      },
      "source": [
        "def train_test_split_demo(x, y, degree, ratio, seed):\n",
        "    \"\"\"polynomial regression with different split ratios and different degrees.\"\"\"\n",
        "    # ***************************************************\n",
        "    # INSERT YOUR CODE HERE\n",
        "    # split the data, and return train and test data: TODO\n",
        "    # ***************************************************\n",
        "    x_train, x_validate, y_train, y_validate = split_data(x, y, ratio)\n",
        "    # ***************************************************\n",
        "    # INSERT YOUR CODE HERE\n",
        "    # form train and test data with polynomial basis function: TODO\n",
        "    # ***************************************************\n",
        "    x_train_poly = build_poly(x_train, degree)\n",
        "    x_validate_poly = build_poly(x_test, degree)\n",
        "    # ***************************************************\n",
        "    # INSERT YOUR CODE HERE\n",
        "    # calculate weight through least square: TODO\n",
        "    # ***************************************************\n",
        "    weights = least_squares(y_train, x_train_poly)\n",
        "    # ***************************************************\n",
        "    # INSERT YOUR CODE HERE\n",
        "    # calculate RMSE for train and test data,\n",
        "    # and store them in rmse_tr and rmse_te respectively: TODO\n",
        "    # ***************************************************\n",
        "    rmse_tr = calculate_mse(y_train, x_train_poly, weights)\n",
        "    rmse_te = calculate_mse(y_validate, x_validate_poly)\n",
        "    print(\"proportion={p}, degree={d}, Training RMSE={tr:.3f}, Testing RMSE={te:.3f}\".format(\n",
        "          p=ratio, d=degree, tr=rmse_tr, te=rmse_te))\n"
      ],
      "execution_count": null,
      "outputs": []
    },
    {
      "cell_type": "code",
      "metadata": {
        "collapsed": true,
        "id": "eeRIJ-j1zhoT"
      },
      "source": [
        "seed = 6\n",
        "degrees = [1, 3, 7, 12]\n",
        "split_ratios = [0.9, 0.5, 0.1]\n",
        "\n",
        "for split_ratio in split_ratios:\n",
        "    for degree in degrees:\n",
        "        train_test_split_demo(x, y, degree, split_ratio, seed)"
      ],
      "execution_count": null,
      "outputs": []
    },
    {
      "cell_type": "markdown",
      "metadata": {
        "id": "tGxkHeFtzhoT"
      },
      "source": [
        "# 3 Ridge Regression\n",
        "Please fill in the function below."
      ]
    },
    {
      "cell_type": "code",
      "metadata": {
        "collapsed": true,
        "id": "rad5z5N5zhoT"
      },
      "source": [
        "def ridge_regression(y, tx, lambda_):\n",
        "    \"\"\"implement ridge regression.\"\"\"\n",
        "    # ***************************************************\n",
        "    # INSERT YOUR CODE HERE\n",
        "    # ridge regression: TODO\n",
        "    # ***************************************************\n",
        "    raise NotImplementedError"
      ],
      "execution_count": null,
      "outputs": []
    },
    {
      "cell_type": "code",
      "metadata": {
        "collapsed": true,
        "id": "tkZSERdgzhoT"
      },
      "source": [
        "def ridge_regression_demo(x, y, degree, ratio, seed):\n",
        "    \"\"\"ridge regression demo.\"\"\"\n",
        "    # define parameter\n",
        "    lambdas = np.logspace(-5, 0, 15)\n",
        "    # ***************************************************\n",
        "    # INSERT YOUR CODE HERE\n",
        "    # split the data, and return train and test data: TODO\n",
        "    # ***************************************************\n",
        "    raise NotImplementedError\n",
        "    # ***************************************************\n",
        "    # INSERT YOUR CODE HERE\n",
        "    # form train and test data with polynomial basis function: TODO\n",
        "    # ***************************************************\n",
        "    raise NotImplementedError\n",
        "\n",
        "    rmse_tr = []\n",
        "    rmse_te = []\n",
        "    for ind, lambda_ in enumerate(lambdas):\n",
        "        # ***************************************************\n",
        "        # INSERT YOUR CODE HERE\n",
        "        # ridge regression with a given lambda\n",
        "        # ***************************************************\n",
        "        print(\"proportion={p}, degree={d}, lambda={l:.3f}, Training RMSE={tr:.3f}, Testing RMSE={te:.3f}\".format(\n",
        "               p=ratio, d=degree, l=lambda_, tr=rmse_tr[ind], te=rmse_te[ind]))\n",
        "        \n",
        "    # Plot the obtained results\n",
        "    plot_train_test(rmse_tr, rmse_te, lambdas, degree)\n",
        "\n",
        "    raise NotImplementedError\n"
      ],
      "execution_count": null,
      "outputs": []
    },
    {
      "cell_type": "code",
      "metadata": {
        "collapsed": true,
        "id": "p9DcahKdzhoT"
      },
      "source": [
        "seed = 56\n",
        "degree = 7\n",
        "split_ratio = 0.5\n",
        "ridge_regression_demo(x, y, degree, split_ratio, seed)"
      ],
      "execution_count": null,
      "outputs": []
    }
  ]
}