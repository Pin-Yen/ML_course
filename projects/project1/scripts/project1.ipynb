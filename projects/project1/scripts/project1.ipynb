{
  "nbformat": 4,
  "nbformat_minor": 0,
  "metadata": {
    "anaconda-cloud": {},
    "kernelspec": {
      "display_name": "Python [conda root]",
      "language": "python",
      "name": "conda-root-py"
    },
    "language_info": {
      "codemirror_mode": {
        "name": "ipython",
        "version": 3
      },
      "file_extension": ".py",
      "mimetype": "text/x-python",
      "name": "python",
      "nbconvert_exporter": "python",
      "pygments_lexer": "ipython3",
      "version": "3.5.1"
    },
    "colab": {
      "name": "project1.ipynb",
      "provenance": []
    }
  },
  "cells": [
    {
      "cell_type": "code",
      "metadata": {
        "collapsed": true,
        "id": "CxIiNg4f8Kyg"
      },
      "source": [
        "# Useful starting lines\n",
        "%matplotlib inline\n",
        "import numpy as np\n",
        "import matplotlib.pyplot as plt\n",
        "%load_ext autoreload\n",
        "%autoreload 2"
      ],
      "execution_count": 1,
      "outputs": []
    },
    {
      "cell_type": "code",
      "metadata": {
        "id": "2AovKPJy-Tyk",
        "outputId": "72f8eec9-c600-4dbe-cb84-343113adbdf5",
        "colab": {
          "base_uri": "https://localhost:8080/"
        }
      },
      "source": [
        "from google.colab import drive\n",
        "drive.mount('/content/drive')\n",
        "import sys\n",
        "sys.path.append('/content/drive/MyDrive/ML')"
      ],
      "execution_count": 16,
      "outputs": [
        {
          "output_type": "stream",
          "name": "stdout",
          "text": [
            "Drive already mounted at /content/drive; to attempt to forcibly remount, call drive.mount(\"/content/drive\", force_remount=True).\n"
          ]
        }
      ]
    },
    {
      "cell_type": "markdown",
      "metadata": {
        "id": "v9HsqJO38Kyh"
      },
      "source": [
        "## Load the training data into feature matrix, class labels, and event ids:"
      ]
    },
    {
      "cell_type": "code",
      "metadata": {
        "id": "Lc8YT2em8Kyi"
      },
      "source": [
        "from proj1_helpers import *\n",
        "DATA_TRAIN_PATH = '/content/drive/MyDrive/ML/train.csv' # TODO: download train data and supply path here \n",
        "y, tX, ids = load_csv_data(DATA_TRAIN_PATH)"
      ],
      "execution_count": 19,
      "outputs": []
    },
    {
      "cell_type": "markdown",
      "metadata": {
        "id": "lBrCaiSN8Kyj"
      },
      "source": [
        "## Do your thing crazy machine learning thing here :) ..."
      ]
    },
    {
      "cell_type": "markdown",
      "metadata": {
        "id": "Lwx3MPot8Kyj"
      },
      "source": [
        "## Generate predictions and save ouput in csv format for submission:"
      ]
    },
    {
      "cell_type": "code",
      "metadata": {
        "id": "9InXs_4_8Kyj"
      },
      "source": [
        "DATA_TEST_PATH = '' # TODO: download train data and supply path here \n",
        "_, tX_test, ids_test = load_csv_data(DATA_TEST_PATH)"
      ],
      "execution_count": null,
      "outputs": []
    },
    {
      "cell_type": "code",
      "metadata": {
        "id": "bde03W8v8Kyk"
      },
      "source": [
        "OUTPUT_PATH = '' # TODO: fill in desired name of output file for submission\n",
        "y_pred = predict_labels(weights, tX_test)\n",
        "create_csv_submission(ids_test, y_pred, OUTPUT_PATH)"
      ],
      "execution_count": null,
      "outputs": []
    },
    {
      "cell_type": "code",
      "metadata": {
        "collapsed": true,
        "id": "6dVYpF9Q8Kyk"
      },
      "source": [
        ""
      ],
      "execution_count": null,
      "outputs": []
    }
  ]
}