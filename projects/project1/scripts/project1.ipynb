{
  "nbformat": 4,
  "nbformat_minor": 0,
  "metadata": {
    "anaconda-cloud": {},
    "kernelspec": {
      "display_name": "Python [conda root]",
      "language": "python",
      "name": "conda-root-py"
    },
    "language_info": {
      "codemirror_mode": {
        "name": "ipython",
        "version": 3
      },
      "file_extension": ".py",
      "mimetype": "text/x-python",
      "name": "python",
      "nbconvert_exporter": "python",
      "pygments_lexer": "ipython3",
      "version": "3.5.1"
    },
    "colab": {
      "name": "project1.ipynb",
      "provenance": []
    }
  },
  "cells": [
    {
      "cell_type": "code",
      "metadata": {
        "collapsed": true,
        "id": "CxIiNg4f8Kyg"
      },
      "source": [
        "# Useful starting lines\n",
        "%matplotlib inline\n",
        "import numpy as np\n",
        "import matplotlib.pyplot as plt\n",
        "%load_ext autoreload\n",
        "%autoreload 2"
      ],
      "execution_count": 1,
      "outputs": []
    },
    {
      "cell_type": "code",
      "metadata": {
        "colab": {
          "base_uri": "https://localhost:8080/"
        },
        "id": "2AovKPJy-Tyk",
        "outputId": "1e40c3c0-9d91-4808-dea1-01046178381e"
      },
      "source": [
        "from google.colab import drive\n",
        "drive.mount('/content/drive')\n",
        "import sys\n",
        "sys.path.append('/content/drive/MyDrive/ML')"
      ],
      "execution_count": 13,
      "outputs": [
        {
          "output_type": "stream",
          "name": "stdout",
          "text": [
            "Drive already mounted at /content/drive; to attempt to forcibly remount, call drive.mount(\"/content/drive\", force_remount=True).\n"
          ]
        }
      ]
    },
    {
      "cell_type": "markdown",
      "metadata": {
        "id": "v9HsqJO38Kyh"
      },
      "source": [
        "## Load the training data into feature matrix, class labels, and event ids:"
      ]
    },
    {
      "cell_type": "code",
      "metadata": {
        "colab": {
          "base_uri": "https://localhost:8080/"
        },
        "id": "Lc8YT2em8Kyi",
        "outputId": "3196db70-9fde-4dd5-f7cb-adcff11e63c7"
      },
      "source": [
        "from proj1_helpers import *\n",
        "DATA_TRAIN_PATH = '/content/drive/MyDrive/ML/train.csv' # TODO: download train data and supply path here \n",
        "y, tX, ids = load_csv_data(DATA_TRAIN_PATH)\n",
        "print(y.shape, tX.shape, ids.shape)\n",
        "\n",
        "# standardize \n",
        "tX = (tX - np.mean(tX, axis=0)) / np.std(tX, axis=0)\n",
        "\n",
        "# split into training set (80%) & validation set (20%)\n",
        "y_val, tX_val, ids_val = y[200000:], tX[200000:], ids[200000:]\n",
        "y, tX, ids = y[:200000], tX[:200000], ids[:200000]\n",
        "\n"
      ],
      "execution_count": 8,
      "outputs": [
        {
          "output_type": "stream",
          "name": "stdout",
          "text": [
            "(250000,) (250000, 30) (250000,)\n"
          ]
        }
      ]
    },
    {
      "cell_type": "code",
      "metadata": {
        "id": "AR_Vk7ds1ZKp"
      },
      "source": [
        "# initialize w\n",
        "\n",
        "from stochastic_gradient_descent import *\n",
        "from costs import compute_loss\n",
        "\n",
        "w = np.zeros(tX.shape[1])\n",
        "losses, accurarcies, ws = [], [], []\n",
        "\n",
        "for i in range(5):\n",
        "  losses_epoch, accurarcies_epoch, ws_epoch = stochastic_gradient_descent(y, tX, w, 256, 781, 0.05)\n",
        "  losses += losses_epoch\n",
        "  accurarcies += accurarcies_epoch\n",
        "  ws += ws_epoch\n",
        "  w = ws[-1]\n",
        "\n",
        "\n",
        "\n",
        "# for i, (loss, ws) in enumerate(zip(losses, ws)):\n",
        "#   print(i, loss)"
      ],
      "execution_count": 80,
      "outputs": []
    },
    {
      "cell_type": "markdown",
      "metadata": {
        "id": "lBrCaiSN8Kyj"
      },
      "source": [
        "## Do your thing crazy machine learning thing here :) ..."
      ]
    },
    {
      "cell_type": "markdown",
      "metadata": {
        "id": "vLwy5Pyb98Dd"
      },
      "source": [
        "## Plot training loss\n",
        "\n"
      ]
    },
    {
      "cell_type": "code",
      "metadata": {
        "id": "HrIc3xa7-E7Z",
        "outputId": "d95ac9c5-3544-4b59-a64d-09b89c0a4cc0",
        "colab": {
          "base_uri": "https://localhost:8080/",
          "height": 265
        }
      },
      "source": [
        "import matplotlib.pyplot as plt\n",
        "\n",
        "plt.plot(range(len(losses)), losses, label='training')\n",
        "\n",
        "losses_val = [compute_loss(y_val, tX_val, w) for w in ws]\n",
        "plt.plot(range(len(losses_val)), losses_val, label='validation')\n",
        "\n",
        "plt.legend()\n",
        "plt.show()"
      ],
      "execution_count": 81,
      "outputs": [
        {
          "output_type": "display_data",
          "data": {
            "image/png": "[encoded data removed]",
            "text/plain": [
              "<Figure size 432x288 with 1 Axes>"
            ]
          },
          "metadata": {
            "needs_background": "light"
          }
        }
      ]
    },
    {
      "cell_type": "code",
      "metadata": {
        "id": "7rekWgAVAMXt",
        "outputId": "e3ac0628-ef36-4980-9875-7891d9700453",
        "colab": {
          "base_uri": "https://localhost:8080/",
          "height": 265
        }
      },
      "source": [
        "def accurarcy(y, y_pred):\n",
        "    return (y == y_pred).mean()\n",
        "\n",
        "# plt.plot(range(len(ws)), accurarcies[0:1] + accurarcies, label='training')\n",
        "\n",
        "accurarcies_val = [accurarcy(y_val, predict_labels(w, tX_val)) for w in ws]\n",
        "plt.plot(range(len(ws)), accurarcies_val, label='validation')\n",
        "\n",
        "plt.legend()\n",
        "plt.show()\n"
      ],
      "execution_count": 83,
      "outputs": [
        {
          "output_type": "display_data",
          "data": {
            "image/png": "[encoded data removed]",
            "text/plain": [
              "<Figure size 432x288 with 1 Axes>"
            ]
          },
          "metadata": {
            "needs_background": "light"
          }
        }
      ]
    },
    {
      "cell_type": "markdown",
      "metadata": {
        "id": "Lwx3MPot8Kyj"
      },
      "source": [
        "## Generate predictions and save ouput in csv format for submission:"
      ]
    },
    {
      "cell_type": "code",
      "metadata": {
        "id": "9InXs_4_8Kyj"
      },
      "source": [
        "DATA_TEST_PATH = '' # TODO: download train data and supply path here \n",
        "_, tX_test, ids_test = load_csv_data(DATA_TEST_PATH)"
      ],
      "execution_count": null,
      "outputs": []
    },
    {
      "cell_type": "code",
      "metadata": {
        "id": "bde03W8v8Kyk"
      },
      "source": [
        "OUTPUT_PATH = '' # TODO: fill in desired name of output file for submission\n",
        "y_pred = predict_labels(weights, tX_test)\n",
        "create_csv_submission(ids_test, y_pred, OUTPUT_PATH)"
      ],
      "execution_count": null,
      "outputs": []
    },
    {
      "cell_type": "code",
      "metadata": {
        "collapsed": true,
        "id": "6dVYpF9Q8Kyk"
      },
      "source": [
        ""
      ],
      "execution_count": null,
      "outputs": []
    }
  ]
}